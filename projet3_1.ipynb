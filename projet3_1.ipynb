{
  "nbformat": 4,
  "nbformat_minor": 0,
  "metadata": {
    "colab": {
      "name": "projet3.1.ipynb",
      "provenance": [],
      "collapsed_sections": [
        "gVJyOui8P2qZ",
        "Zl9tJF6Hb_tu",
        "v2Qv2NEV89mb",
        "rBO7AY2LyvnO",
        "i9rtnIxdzJxv",
        "2uZaTWz_zJyL",
        "GPQG3ekRzJyb",
        "kGOcxOLXzJy2",
        "3qGTCfyPzJzB",
        "RnUAq5E5zJzN",
        "d270BPVlzJzS",
        "YmuaDKJDzJzU",
        "hdseS8B-zJzh",
        "Ti6LYM_ezJzr",
        "SkPoWgcJzJz3",
        "zRt4mzwDzZ2U"
      ]
    },
    "kernelspec": {
      "name": "python3",
      "display_name": "Python 3"
    }
  },
  "cells": [
    {
      "cell_type": "markdown",
      "metadata": {
        "id": "1HafIpCyT4-Q"
      },
      "source": [
        "#Code and Data imports"
      ]
    },
    {
      "cell_type": "code",
      "metadata": {
        "id": "KHlSane7HnRa",
        "outputId": "dbba7750-7ae8-4ef3-9518-e066db1d8400",
        "colab": {
          "base_uri": "https://localhost:8080/",
          "height": 71
        }
      },
      "source": [
        "import pandas as pd\n",
        "import numpy as np\n",
        "import matplotlib.pyplot as plt\n",
        "import matplotlib.ticker as ticker\n",
        "from sklearn.preprocessing import MinMaxScaler\n",
        "from sklearn import preprocessing\n",
        "import seaborn as sns\n",
        "import ast\n",
        "from keras.utils import to_categorical\n",
        "from sklearn.model_selection import train_test_split\n",
        "import h5py\n",
        "import scipy\n",
        "from tqdm import tqdm\n",
        "from keras.models import Sequential\n",
        "from keras.layers import Dense\n",
        "from sklearn.datasets import make_regression\n",
        "from sklearn.preprocessing import MinMaxScaler, StandardScaler\n",
        "import tensorflow as tf\n",
        "import xgboost\n",
        "import math\n",
        "from __future__ import division\n",
        "from scipy.stats import pearsonr\n",
        "from sklearn.linear_model import LinearRegression\n",
        "from sklearn import  tree, linear_model\n",
        "from sklearn.metrics import explained_variance_score, r2_score, mean_squared_error, median_absolute_error\n",
        "from sklearn.model_selection import GridSearchCV\n",
        "from sklearn.linear_model import Ridge, Lasso, LogisticRegression\n",
        "from sklearn.ensemble import RandomForestRegressor"
      ],
      "execution_count": null,
      "outputs": [
        {
          "output_type": "stream",
          "text": [
            "/usr/local/lib/python3.6/dist-packages/statsmodels/tools/_testing.py:19: FutureWarning: pandas.util.testing is deprecated. Use the functions in the public API at pandas.testing instead.\n",
            "  import pandas.util.testing as tm\n"
          ],
          "name": "stderr"
        }
      ]
    },
    {
      "cell_type": "code",
      "metadata": {
        "id": "710jyDX5T4fZ",
        "outputId": "96951329-2b53-471a-d0f5-8fdb2b96798e",
        "colab": {
          "base_uri": "https://localhost:8080/",
          "height": 122
        }
      },
      "source": [
        "from google.colab import drive\n",
        "drive.mount('/content/drive')"
      ],
      "execution_count": null,
      "outputs": [
        {
          "output_type": "stream",
          "text": [
            "Go to this URL in a browser: https://accounts.google.com/o/oauth2/auth?client_id=947318989803-6bn6qk8qdgf4n4g3pfee6491hc0brc4i.apps.googleusercontent.com&redirect_uri=urn%3aietf%3awg%3aoauth%3a2.0%3aoob&scope=email%20https%3a%2f%2fwww.googleapis.com%2fauth%2fdocs.test%20https%3a%2f%2fwww.googleapis.com%2fauth%2fdrive%20https%3a%2f%2fwww.googleapis.com%2fauth%2fdrive.photos.readonly%20https%3a%2f%2fwww.googleapis.com%2fauth%2fpeopleapi.readonly&response_type=code\n",
            "\n",
            "Enter your authorization code:\n",
            "··········\n",
            "Mounted at /content/drive\n"
          ],
          "name": "stdout"
        }
      ]
    },
    {
      "cell_type": "code",
      "metadata": {
        "id": "cgR2pcD5UbXr"
      },
      "source": [
        "data_mix = pd.read_csv(\"drive/My Drive/data_mix_without_residential.csv\")"
      ],
      "execution_count": null,
      "outputs": []
    },
    {
      "cell_type": "code",
      "metadata": {
        "id": "W8c_cYUrUirQ",
        "outputId": "92e56dc0-afc4-4742-847b-200bee5a0538",
        "colab": {
          "base_uri": "https://localhost:8080/",
          "height": 241
        }
      },
      "source": [
        "print(data_mix.shape)\n",
        "data_mix.head()"
      ],
      "execution_count": null,
      "outputs": [
        {
          "output_type": "stream",
          "text": [
            "(2921, 17)\n"
          ],
          "name": "stdout"
        },
        {
          "output_type": "execute_result",
          "data": {
            "text/html": [
              "<div>\n",
              "<style scoped>\n",
              "    .dataframe tbody tr th:only-of-type {\n",
              "        vertical-align: middle;\n",
              "    }\n",
              "\n",
              "    .dataframe tbody tr th {\n",
              "        vertical-align: top;\n",
              "    }\n",
              "\n",
              "    .dataframe thead th {\n",
              "        text-align: right;\n",
              "    }\n",
              "</style>\n",
              "<table border=\"1\" class=\"dataframe\">\n",
              "  <thead>\n",
              "    <tr style=\"text-align: right;\">\n",
              "      <th></th>\n",
              "      <th>BuildingType</th>\n",
              "      <th>PrimaryPropertyType</th>\n",
              "      <th>CouncilDistrictCode</th>\n",
              "      <th>Neighborhood</th>\n",
              "      <th>YearBuilt</th>\n",
              "      <th>NumberofBuildings</th>\n",
              "      <th>NumberofFloors</th>\n",
              "      <th>PropertyGFAParking</th>\n",
              "      <th>PropertyGFABuilding(s)</th>\n",
              "      <th>ListOfAllPropertyUseTypes</th>\n",
              "      <th>ENERGYSTARScore</th>\n",
              "      <th>SiteEUI(kBtu/sf)</th>\n",
              "      <th>SiteEnergyUse(kBtu)</th>\n",
              "      <th>SteamUse(kBtu)</th>\n",
              "      <th>Electricity(kWh)</th>\n",
              "      <th>TotalGHGEmissions</th>\n",
              "      <th>GHGEmissionsIntensity</th>\n",
              "    </tr>\n",
              "  </thead>\n",
              "  <tbody>\n",
              "    <tr>\n",
              "      <th>0</th>\n",
              "      <td>NonResidential</td>\n",
              "      <td>Hotel</td>\n",
              "      <td>7</td>\n",
              "      <td>DOWNTOWN</td>\n",
              "      <td>1927</td>\n",
              "      <td>1.0</td>\n",
              "      <td>12.0</td>\n",
              "      <td>0</td>\n",
              "      <td>88434</td>\n",
              "      <td>Hotel</td>\n",
              "      <td>65.0</td>\n",
              "      <td>78.9</td>\n",
              "      <td>6981428.0</td>\n",
              "      <td>2023032.0</td>\n",
              "      <td>1080307.0</td>\n",
              "      <td>249.43</td>\n",
              "      <td>2.64</td>\n",
              "    </tr>\n",
              "    <tr>\n",
              "      <th>1</th>\n",
              "      <td>NonResidential</td>\n",
              "      <td>Hotel</td>\n",
              "      <td>7</td>\n",
              "      <td>DOWNTOWN</td>\n",
              "      <td>1996</td>\n",
              "      <td>1.0</td>\n",
              "      <td>11.0</td>\n",
              "      <td>15064</td>\n",
              "      <td>88502</td>\n",
              "      <td>Hotel, Parking, Restaurant</td>\n",
              "      <td>51.0</td>\n",
              "      <td>94.4</td>\n",
              "      <td>8354235.0</td>\n",
              "      <td>0.0</td>\n",
              "      <td>1144563.0</td>\n",
              "      <td>263.51</td>\n",
              "      <td>2.38</td>\n",
              "    </tr>\n",
              "    <tr>\n",
              "      <th>2</th>\n",
              "      <td>NonResidential</td>\n",
              "      <td>Hotel</td>\n",
              "      <td>7</td>\n",
              "      <td>DOWNTOWN</td>\n",
              "      <td>1969</td>\n",
              "      <td>1.0</td>\n",
              "      <td>41.0</td>\n",
              "      <td>0</td>\n",
              "      <td>961990</td>\n",
              "      <td>Hotel, Parking, Swimming Pool</td>\n",
              "      <td>18.0</td>\n",
              "      <td>96.6</td>\n",
              "      <td>73130656.0</td>\n",
              "      <td>19660404.0</td>\n",
              "      <td>14583930.0</td>\n",
              "      <td>2061.48</td>\n",
              "      <td>1.92</td>\n",
              "    </tr>\n",
              "    <tr>\n",
              "      <th>3</th>\n",
              "      <td>NonResidential</td>\n",
              "      <td>Hotel</td>\n",
              "      <td>7</td>\n",
              "      <td>DOWNTOWN</td>\n",
              "      <td>1926</td>\n",
              "      <td>1.0</td>\n",
              "      <td>10.0</td>\n",
              "      <td>0</td>\n",
              "      <td>61320</td>\n",
              "      <td>Hotel</td>\n",
              "      <td>1.0</td>\n",
              "      <td>460.4</td>\n",
              "      <td>28229320.0</td>\n",
              "      <td>23458518.0</td>\n",
              "      <td>811521.0</td>\n",
              "      <td>1936.34</td>\n",
              "      <td>31.38</td>\n",
              "    </tr>\n",
              "    <tr>\n",
              "      <th>4</th>\n",
              "      <td>NonResidential</td>\n",
              "      <td>Hotel</td>\n",
              "      <td>7</td>\n",
              "      <td>DOWNTOWN</td>\n",
              "      <td>1980</td>\n",
              "      <td>1.0</td>\n",
              "      <td>18.0</td>\n",
              "      <td>12460</td>\n",
              "      <td>107430</td>\n",
              "      <td>Hotel, Parking, Swimming Pool</td>\n",
              "      <td>67.0</td>\n",
              "      <td>120.1</td>\n",
              "      <td>14829099.0</td>\n",
              "      <td>0.0</td>\n",
              "      <td>1777841.0</td>\n",
              "      <td>507.70</td>\n",
              "      <td>4.02</td>\n",
              "    </tr>\n",
              "  </tbody>\n",
              "</table>\n",
              "</div>"
            ],
            "text/plain": [
              "     BuildingType PrimaryPropertyType  ...  TotalGHGEmissions GHGEmissionsIntensity\n",
              "0  NonResidential               Hotel  ...             249.43                  2.64\n",
              "1  NonResidential               Hotel  ...             263.51                  2.38\n",
              "2  NonResidential               Hotel  ...            2061.48                  1.92\n",
              "3  NonResidential               Hotel  ...            1936.34                 31.38\n",
              "4  NonResidential               Hotel  ...             507.70                  4.02\n",
              "\n",
              "[5 rows x 17 columns]"
            ]
          },
          "metadata": {
            "tags": []
          },
          "execution_count": 4
        }
      ]
    },
    {
      "cell_type": "markdown",
      "metadata": {
        "id": "oTRQnHXOHDfe"
      },
      "source": [
        "#Change categorical variables to dummy variables\n"
      ]
    },
    {
      "cell_type": "code",
      "metadata": {
        "id": "chgrP097XH-A",
        "outputId": "7a498ff2-9f37-4ae2-f337-68e1da2c3aae",
        "colab": {
          "base_uri": "https://localhost:8080/",
          "height": 221
        }
      },
      "source": [
        "L = []\n",
        "for value in data_mix['YearBuilt']:\n",
        "  L.append(2016-value)\n",
        "Number_of_Years = pd.Series(L)\n",
        "print(Number_of_Years)"
      ],
      "execution_count": null,
      "outputs": [
        {
          "output_type": "stream",
          "text": [
            "0       89\n",
            "1       20\n",
            "2       47\n",
            "3       90\n",
            "4       36\n",
            "        ..\n",
            "2916    61\n",
            "2917    87\n",
            "2918     3\n",
            "2919     1\n",
            "2920     1\n",
            "Length: 2921, dtype: int64\n"
          ],
          "name": "stdout"
        }
      ]
    },
    {
      "cell_type": "code",
      "metadata": {
        "id": "2NN-iUufIMw0"
      },
      "source": [
        "buildingTypeDummy = pd.get_dummies(data_mix[\"BuildingType\"])\n",
        "PrimaryPropertyTypeDummy = pd.get_dummies(data_mix[\"PrimaryPropertyType\"])\n",
        "NeighborhoodDummy = pd.get_dummies(data_mix[\"Neighborhood\"])\n",
        "CouncilDistrictCodeDummy = pd.get_dummies(data_mix[\"CouncilDistrictCode\"])"
      ],
      "execution_count": null,
      "outputs": []
    },
    {
      "cell_type": "code",
      "metadata": {
        "id": "irhyudRrL0jV"
      },
      "source": [
        "le = preprocessing.LabelEncoder()\n",
        "buildingLabel = le.fit_transform(data_mix[\"BuildingType\"])\n",
        "primaryPropertyTypeLabel = le.fit_transform(data_mix[\"PrimaryPropertyType\"])\n",
        "neighborhoodLabel = le.fit_transform(data_mix[\"Neighborhood\"])"
      ],
      "execution_count": null,
      "outputs": []
    },
    {
      "cell_type": "code",
      "metadata": {
        "id": "SEPkOP3XzFhR"
      },
      "source": [
        "categorical_data = pd.concat([buildingTypeDummy, PrimaryPropertyTypeDummy, NeighborhoodDummy, CouncilDistrictCodeDummy], axis=1, ignore_index=True)"
      ],
      "execution_count": null,
      "outputs": []
    },
    {
      "cell_type": "code",
      "metadata": {
        "id": "diD1SqMxNx1-"
      },
      "source": [
        "buildingLabel = pd.Series(buildingLabel)\n",
        "primaryPropertyTypeLabel = pd.Series(primaryPropertyTypeLabel)\n",
        "neighborhoodLabel = pd.Series(neighborhoodLabel)"
      ],
      "execution_count": null,
      "outputs": []
    },
    {
      "cell_type": "code",
      "metadata": {
        "id": "hV0OmNXRNh7K"
      },
      "source": [
        "categorical_data_label = pd.concat([buildingLabel, primaryPropertyTypeLabel, neighborhoodLabel], axis=1, ignore_index=True)"
      ],
      "execution_count": null,
      "outputs": []
    },
    {
      "cell_type": "code",
      "metadata": {
        "id": "e9MjaFRKzO5x"
      },
      "source": [
        "data_mix2 = pd.concat([data_mix, categorical_data_label], axis=1, ignore_index=True)"
      ],
      "execution_count": null,
      "outputs": []
    },
    {
      "cell_type": "code",
      "metadata": {
        "id": "x8aH4gwizgBT",
        "outputId": "093cafc3-9925-4ef9-e991-513c119b6d4b",
        "colab": {
          "base_uri": "https://localhost:8080/",
          "height": 360
        }
      },
      "source": [
        "data_mix2.head() "
      ],
      "execution_count": null,
      "outputs": [
        {
          "output_type": "execute_result",
          "data": {
            "text/html": [
              "<div>\n",
              "<style scoped>\n",
              "    .dataframe tbody tr th:only-of-type {\n",
              "        vertical-align: middle;\n",
              "    }\n",
              "\n",
              "    .dataframe tbody tr th {\n",
              "        vertical-align: top;\n",
              "    }\n",
              "\n",
              "    .dataframe thead th {\n",
              "        text-align: right;\n",
              "    }\n",
              "</style>\n",
              "<table border=\"1\" class=\"dataframe\">\n",
              "  <thead>\n",
              "    <tr style=\"text-align: right;\">\n",
              "      <th></th>\n",
              "      <th>0</th>\n",
              "      <th>1</th>\n",
              "      <th>2</th>\n",
              "      <th>3</th>\n",
              "      <th>4</th>\n",
              "      <th>5</th>\n",
              "      <th>6</th>\n",
              "      <th>7</th>\n",
              "      <th>8</th>\n",
              "      <th>9</th>\n",
              "      <th>10</th>\n",
              "      <th>11</th>\n",
              "      <th>12</th>\n",
              "      <th>13</th>\n",
              "      <th>14</th>\n",
              "      <th>15</th>\n",
              "      <th>16</th>\n",
              "      <th>17</th>\n",
              "      <th>18</th>\n",
              "      <th>19</th>\n",
              "    </tr>\n",
              "  </thead>\n",
              "  <tbody>\n",
              "    <tr>\n",
              "      <th>0</th>\n",
              "      <td>NonResidential</td>\n",
              "      <td>Hotel</td>\n",
              "      <td>7</td>\n",
              "      <td>DOWNTOWN</td>\n",
              "      <td>1927</td>\n",
              "      <td>1.0</td>\n",
              "      <td>12.0</td>\n",
              "      <td>0</td>\n",
              "      <td>88434</td>\n",
              "      <td>Hotel</td>\n",
              "      <td>65.0</td>\n",
              "      <td>78.9</td>\n",
              "      <td>6981428.0</td>\n",
              "      <td>2023032.0</td>\n",
              "      <td>1080307.0</td>\n",
              "      <td>249.43</td>\n",
              "      <td>2.64</td>\n",
              "      <td>0</td>\n",
              "      <td>4</td>\n",
              "      <td>5</td>\n",
              "    </tr>\n",
              "    <tr>\n",
              "      <th>1</th>\n",
              "      <td>NonResidential</td>\n",
              "      <td>Hotel</td>\n",
              "      <td>7</td>\n",
              "      <td>DOWNTOWN</td>\n",
              "      <td>1996</td>\n",
              "      <td>1.0</td>\n",
              "      <td>11.0</td>\n",
              "      <td>15064</td>\n",
              "      <td>88502</td>\n",
              "      <td>Hotel, Parking, Restaurant</td>\n",
              "      <td>51.0</td>\n",
              "      <td>94.4</td>\n",
              "      <td>8354235.0</td>\n",
              "      <td>0.0</td>\n",
              "      <td>1144563.0</td>\n",
              "      <td>263.51</td>\n",
              "      <td>2.38</td>\n",
              "      <td>0</td>\n",
              "      <td>4</td>\n",
              "      <td>5</td>\n",
              "    </tr>\n",
              "    <tr>\n",
              "      <th>2</th>\n",
              "      <td>NonResidential</td>\n",
              "      <td>Hotel</td>\n",
              "      <td>7</td>\n",
              "      <td>DOWNTOWN</td>\n",
              "      <td>1969</td>\n",
              "      <td>1.0</td>\n",
              "      <td>41.0</td>\n",
              "      <td>0</td>\n",
              "      <td>961990</td>\n",
              "      <td>Hotel, Parking, Swimming Pool</td>\n",
              "      <td>18.0</td>\n",
              "      <td>96.6</td>\n",
              "      <td>73130656.0</td>\n",
              "      <td>19660404.0</td>\n",
              "      <td>14583930.0</td>\n",
              "      <td>2061.48</td>\n",
              "      <td>1.92</td>\n",
              "      <td>0</td>\n",
              "      <td>4</td>\n",
              "      <td>5</td>\n",
              "    </tr>\n",
              "    <tr>\n",
              "      <th>3</th>\n",
              "      <td>NonResidential</td>\n",
              "      <td>Hotel</td>\n",
              "      <td>7</td>\n",
              "      <td>DOWNTOWN</td>\n",
              "      <td>1926</td>\n",
              "      <td>1.0</td>\n",
              "      <td>10.0</td>\n",
              "      <td>0</td>\n",
              "      <td>61320</td>\n",
              "      <td>Hotel</td>\n",
              "      <td>1.0</td>\n",
              "      <td>460.4</td>\n",
              "      <td>28229320.0</td>\n",
              "      <td>23458518.0</td>\n",
              "      <td>811521.0</td>\n",
              "      <td>1936.34</td>\n",
              "      <td>31.38</td>\n",
              "      <td>0</td>\n",
              "      <td>4</td>\n",
              "      <td>5</td>\n",
              "    </tr>\n",
              "    <tr>\n",
              "      <th>4</th>\n",
              "      <td>NonResidential</td>\n",
              "      <td>Hotel</td>\n",
              "      <td>7</td>\n",
              "      <td>DOWNTOWN</td>\n",
              "      <td>1980</td>\n",
              "      <td>1.0</td>\n",
              "      <td>18.0</td>\n",
              "      <td>12460</td>\n",
              "      <td>107430</td>\n",
              "      <td>Hotel, Parking, Swimming Pool</td>\n",
              "      <td>67.0</td>\n",
              "      <td>120.1</td>\n",
              "      <td>14829099.0</td>\n",
              "      <td>0.0</td>\n",
              "      <td>1777841.0</td>\n",
              "      <td>507.70</td>\n",
              "      <td>4.02</td>\n",
              "      <td>0</td>\n",
              "      <td>4</td>\n",
              "      <td>5</td>\n",
              "    </tr>\n",
              "  </tbody>\n",
              "</table>\n",
              "</div>"
            ],
            "text/plain": [
              "               0      1   2         3     4   ...       15     16  17  18 19\n",
              "0  NonResidential  Hotel   7  DOWNTOWN  1927  ...   249.43   2.64   0   4  5\n",
              "1  NonResidential  Hotel   7  DOWNTOWN  1996  ...   263.51   2.38   0   4  5\n",
              "2  NonResidential  Hotel   7  DOWNTOWN  1969  ...  2061.48   1.92   0   4  5\n",
              "3  NonResidential  Hotel   7  DOWNTOWN  1926  ...  1936.34  31.38   0   4  5\n",
              "4  NonResidential  Hotel   7  DOWNTOWN  1980  ...   507.70   4.02   0   4  5\n",
              "\n",
              "[5 rows x 20 columns]"
            ]
          },
          "metadata": {
            "tags": []
          },
          "execution_count": 12
        }
      ]
    },
    {
      "cell_type": "code",
      "metadata": {
        "id": "qVbVHEO2mOFJ"
      },
      "source": [
        "data_mix2.columns = list(data_mix.columns) + [\"BuildingTypeLabel\", \"PrimaryPropertyTypeLabel\", \"NeighborhoodLabel\"]"
      ],
      "execution_count": null,
      "outputs": []
    },
    {
      "cell_type": "code",
      "metadata": {
        "id": "-YTzxR9U1ioB"
      },
      "source": [
        "data_mix2 = data_mix2.drop([\"BuildingType\", \"PrimaryPropertyType\", \"Neighborhood\",\"YearBuilt\"], axis=1)\n",
        "data_mixCols = list(data_mix2.columns) + [\"Number Of Years\"]"
      ],
      "execution_count": null,
      "outputs": []
    },
    {
      "cell_type": "code",
      "metadata": {
        "id": "MPqO1QF1YkYq"
      },
      "source": [
        "data_mix2 = pd.concat([data_mix2, Number_of_Years], axis=1, ignore_index=True)"
      ],
      "execution_count": null,
      "outputs": []
    },
    {
      "cell_type": "code",
      "metadata": {
        "id": "fbJX2NzUmkSM",
        "outputId": "118f11fe-9a7d-469f-cad2-97a3cab7bcea",
        "colab": {
          "base_uri": "https://localhost:8080/",
          "height": 255
        }
      },
      "source": [
        "data_mix2.head()"
      ],
      "execution_count": null,
      "outputs": [
        {
          "output_type": "execute_result",
          "data": {
            "text/html": [
              "<div>\n",
              "<style scoped>\n",
              "    .dataframe tbody tr th:only-of-type {\n",
              "        vertical-align: middle;\n",
              "    }\n",
              "\n",
              "    .dataframe tbody tr th {\n",
              "        vertical-align: top;\n",
              "    }\n",
              "\n",
              "    .dataframe thead th {\n",
              "        text-align: right;\n",
              "    }\n",
              "</style>\n",
              "<table border=\"1\" class=\"dataframe\">\n",
              "  <thead>\n",
              "    <tr style=\"text-align: right;\">\n",
              "      <th></th>\n",
              "      <th>0</th>\n",
              "      <th>1</th>\n",
              "      <th>2</th>\n",
              "      <th>3</th>\n",
              "      <th>4</th>\n",
              "      <th>5</th>\n",
              "      <th>6</th>\n",
              "      <th>7</th>\n",
              "      <th>8</th>\n",
              "      <th>9</th>\n",
              "      <th>10</th>\n",
              "      <th>11</th>\n",
              "      <th>12</th>\n",
              "      <th>13</th>\n",
              "      <th>14</th>\n",
              "      <th>15</th>\n",
              "      <th>16</th>\n",
              "    </tr>\n",
              "  </thead>\n",
              "  <tbody>\n",
              "    <tr>\n",
              "      <th>0</th>\n",
              "      <td>7</td>\n",
              "      <td>1.0</td>\n",
              "      <td>12.0</td>\n",
              "      <td>0</td>\n",
              "      <td>88434</td>\n",
              "      <td>Hotel</td>\n",
              "      <td>65.0</td>\n",
              "      <td>78.9</td>\n",
              "      <td>6981428.0</td>\n",
              "      <td>2023032.0</td>\n",
              "      <td>1080307.0</td>\n",
              "      <td>249.43</td>\n",
              "      <td>2.64</td>\n",
              "      <td>0</td>\n",
              "      <td>4</td>\n",
              "      <td>5</td>\n",
              "      <td>89</td>\n",
              "    </tr>\n",
              "    <tr>\n",
              "      <th>1</th>\n",
              "      <td>7</td>\n",
              "      <td>1.0</td>\n",
              "      <td>11.0</td>\n",
              "      <td>15064</td>\n",
              "      <td>88502</td>\n",
              "      <td>Hotel, Parking, Restaurant</td>\n",
              "      <td>51.0</td>\n",
              "      <td>94.4</td>\n",
              "      <td>8354235.0</td>\n",
              "      <td>0.0</td>\n",
              "      <td>1144563.0</td>\n",
              "      <td>263.51</td>\n",
              "      <td>2.38</td>\n",
              "      <td>0</td>\n",
              "      <td>4</td>\n",
              "      <td>5</td>\n",
              "      <td>20</td>\n",
              "    </tr>\n",
              "    <tr>\n",
              "      <th>2</th>\n",
              "      <td>7</td>\n",
              "      <td>1.0</td>\n",
              "      <td>41.0</td>\n",
              "      <td>0</td>\n",
              "      <td>961990</td>\n",
              "      <td>Hotel, Parking, Swimming Pool</td>\n",
              "      <td>18.0</td>\n",
              "      <td>96.6</td>\n",
              "      <td>73130656.0</td>\n",
              "      <td>19660404.0</td>\n",
              "      <td>14583930.0</td>\n",
              "      <td>2061.48</td>\n",
              "      <td>1.92</td>\n",
              "      <td>0</td>\n",
              "      <td>4</td>\n",
              "      <td>5</td>\n",
              "      <td>47</td>\n",
              "    </tr>\n",
              "    <tr>\n",
              "      <th>3</th>\n",
              "      <td>7</td>\n",
              "      <td>1.0</td>\n",
              "      <td>10.0</td>\n",
              "      <td>0</td>\n",
              "      <td>61320</td>\n",
              "      <td>Hotel</td>\n",
              "      <td>1.0</td>\n",
              "      <td>460.4</td>\n",
              "      <td>28229320.0</td>\n",
              "      <td>23458518.0</td>\n",
              "      <td>811521.0</td>\n",
              "      <td>1936.34</td>\n",
              "      <td>31.38</td>\n",
              "      <td>0</td>\n",
              "      <td>4</td>\n",
              "      <td>5</td>\n",
              "      <td>90</td>\n",
              "    </tr>\n",
              "    <tr>\n",
              "      <th>4</th>\n",
              "      <td>7</td>\n",
              "      <td>1.0</td>\n",
              "      <td>18.0</td>\n",
              "      <td>12460</td>\n",
              "      <td>107430</td>\n",
              "      <td>Hotel, Parking, Swimming Pool</td>\n",
              "      <td>67.0</td>\n",
              "      <td>120.1</td>\n",
              "      <td>14829099.0</td>\n",
              "      <td>0.0</td>\n",
              "      <td>1777841.0</td>\n",
              "      <td>507.70</td>\n",
              "      <td>4.02</td>\n",
              "      <td>0</td>\n",
              "      <td>4</td>\n",
              "      <td>5</td>\n",
              "      <td>36</td>\n",
              "    </tr>\n",
              "  </tbody>\n",
              "</table>\n",
              "</div>"
            ],
            "text/plain": [
              "   0    1     2      3       4   ...     12  13  14  15  16\n",
              "0   7  1.0  12.0      0   88434  ...   2.64   0   4   5  89\n",
              "1   7  1.0  11.0  15064   88502  ...   2.38   0   4   5  20\n",
              "2   7  1.0  41.0      0  961990  ...   1.92   0   4   5  47\n",
              "3   7  1.0  10.0      0   61320  ...  31.38   0   4   5  90\n",
              "4   7  1.0  18.0  12460  107430  ...   4.02   0   4   5  36\n",
              "\n",
              "[5 rows x 17 columns]"
            ]
          },
          "metadata": {
            "tags": []
          },
          "execution_count": 16
        }
      ]
    },
    {
      "cell_type": "code",
      "metadata": {
        "id": "vshOY0kB1YgY"
      },
      "source": [
        "data_mix2.columns = data_mixCols"
      ],
      "execution_count": null,
      "outputs": []
    },
    {
      "cell_type": "code",
      "metadata": {
        "id": "6ndb7d-hZmXB",
        "outputId": "54d42c3d-ecd1-486b-fe56-517f8ec3337b",
        "colab": {
          "base_uri": "https://localhost:8080/",
          "height": 258
        }
      },
      "source": [
        "data_mix2.head()"
      ],
      "execution_count": null,
      "outputs": [
        {
          "output_type": "execute_result",
          "data": {
            "text/html": [
              "<div>\n",
              "<style scoped>\n",
              "    .dataframe tbody tr th:only-of-type {\n",
              "        vertical-align: middle;\n",
              "    }\n",
              "\n",
              "    .dataframe tbody tr th {\n",
              "        vertical-align: top;\n",
              "    }\n",
              "\n",
              "    .dataframe thead th {\n",
              "        text-align: right;\n",
              "    }\n",
              "</style>\n",
              "<table border=\"1\" class=\"dataframe\">\n",
              "  <thead>\n",
              "    <tr style=\"text-align: right;\">\n",
              "      <th></th>\n",
              "      <th>CouncilDistrictCode</th>\n",
              "      <th>NumberofBuildings</th>\n",
              "      <th>NumberofFloors</th>\n",
              "      <th>PropertyGFAParking</th>\n",
              "      <th>PropertyGFABuilding(s)</th>\n",
              "      <th>ListOfAllPropertyUseTypes</th>\n",
              "      <th>ENERGYSTARScore</th>\n",
              "      <th>SiteEUI(kBtu/sf)</th>\n",
              "      <th>SiteEnergyUse(kBtu)</th>\n",
              "      <th>SteamUse(kBtu)</th>\n",
              "      <th>Electricity(kWh)</th>\n",
              "      <th>TotalGHGEmissions</th>\n",
              "      <th>GHGEmissionsIntensity</th>\n",
              "      <th>BuildingTypeLabel</th>\n",
              "      <th>PrimaryPropertyTypeLabel</th>\n",
              "      <th>NeighborhoodLabel</th>\n",
              "      <th>Number Of Years</th>\n",
              "    </tr>\n",
              "  </thead>\n",
              "  <tbody>\n",
              "    <tr>\n",
              "      <th>0</th>\n",
              "      <td>7</td>\n",
              "      <td>1.0</td>\n",
              "      <td>12.0</td>\n",
              "      <td>0</td>\n",
              "      <td>88434</td>\n",
              "      <td>Hotel</td>\n",
              "      <td>65.0</td>\n",
              "      <td>78.9</td>\n",
              "      <td>6981428.0</td>\n",
              "      <td>2023032.0</td>\n",
              "      <td>1080307.0</td>\n",
              "      <td>249.43</td>\n",
              "      <td>2.64</td>\n",
              "      <td>0</td>\n",
              "      <td>4</td>\n",
              "      <td>5</td>\n",
              "      <td>89</td>\n",
              "    </tr>\n",
              "    <tr>\n",
              "      <th>1</th>\n",
              "      <td>7</td>\n",
              "      <td>1.0</td>\n",
              "      <td>11.0</td>\n",
              "      <td>15064</td>\n",
              "      <td>88502</td>\n",
              "      <td>Hotel, Parking, Restaurant</td>\n",
              "      <td>51.0</td>\n",
              "      <td>94.4</td>\n",
              "      <td>8354235.0</td>\n",
              "      <td>0.0</td>\n",
              "      <td>1144563.0</td>\n",
              "      <td>263.51</td>\n",
              "      <td>2.38</td>\n",
              "      <td>0</td>\n",
              "      <td>4</td>\n",
              "      <td>5</td>\n",
              "      <td>20</td>\n",
              "    </tr>\n",
              "    <tr>\n",
              "      <th>2</th>\n",
              "      <td>7</td>\n",
              "      <td>1.0</td>\n",
              "      <td>41.0</td>\n",
              "      <td>0</td>\n",
              "      <td>961990</td>\n",
              "      <td>Hotel, Parking, Swimming Pool</td>\n",
              "      <td>18.0</td>\n",
              "      <td>96.6</td>\n",
              "      <td>73130656.0</td>\n",
              "      <td>19660404.0</td>\n",
              "      <td>14583930.0</td>\n",
              "      <td>2061.48</td>\n",
              "      <td>1.92</td>\n",
              "      <td>0</td>\n",
              "      <td>4</td>\n",
              "      <td>5</td>\n",
              "      <td>47</td>\n",
              "    </tr>\n",
              "    <tr>\n",
              "      <th>3</th>\n",
              "      <td>7</td>\n",
              "      <td>1.0</td>\n",
              "      <td>10.0</td>\n",
              "      <td>0</td>\n",
              "      <td>61320</td>\n",
              "      <td>Hotel</td>\n",
              "      <td>1.0</td>\n",
              "      <td>460.4</td>\n",
              "      <td>28229320.0</td>\n",
              "      <td>23458518.0</td>\n",
              "      <td>811521.0</td>\n",
              "      <td>1936.34</td>\n",
              "      <td>31.38</td>\n",
              "      <td>0</td>\n",
              "      <td>4</td>\n",
              "      <td>5</td>\n",
              "      <td>90</td>\n",
              "    </tr>\n",
              "    <tr>\n",
              "      <th>4</th>\n",
              "      <td>7</td>\n",
              "      <td>1.0</td>\n",
              "      <td>18.0</td>\n",
              "      <td>12460</td>\n",
              "      <td>107430</td>\n",
              "      <td>Hotel, Parking, Swimming Pool</td>\n",
              "      <td>67.0</td>\n",
              "      <td>120.1</td>\n",
              "      <td>14829099.0</td>\n",
              "      <td>0.0</td>\n",
              "      <td>1777841.0</td>\n",
              "      <td>507.70</td>\n",
              "      <td>4.02</td>\n",
              "      <td>0</td>\n",
              "      <td>4</td>\n",
              "      <td>5</td>\n",
              "      <td>36</td>\n",
              "    </tr>\n",
              "  </tbody>\n",
              "</table>\n",
              "</div>"
            ],
            "text/plain": [
              "   CouncilDistrictCode  NumberofBuildings  ...  NeighborhoodLabel  Number Of Years\n",
              "0                    7                1.0  ...                  5               89\n",
              "1                    7                1.0  ...                  5               20\n",
              "2                    7                1.0  ...                  5               47\n",
              "3                    7                1.0  ...                  5               90\n",
              "4                    7                1.0  ...                  5               36\n",
              "\n",
              "[5 rows x 17 columns]"
            ]
          },
          "metadata": {
            "tags": []
          },
          "execution_count": 18
        }
      ]
    },
    {
      "cell_type": "markdown",
      "metadata": {
        "id": "vR27GNZiyROG"
      },
      "source": [
        "#Prédiction des émissions de CO2"
      ]
    },
    {
      "cell_type": "markdown",
      "metadata": {
        "id": "6daC_wwnwzbn"
      },
      "source": [
        "##Linear Regression"
      ]
    },
    {
      "cell_type": "markdown",
      "metadata": {
        "id": "gVJyOui8P2qZ"
      },
      "source": [
        "###Dummy Regression"
      ]
    },
    {
      "cell_type": "code",
      "metadata": {
        "id": "9l8Jos0zSNni",
        "outputId": "85379fa0-c514-4665-9c2b-bf196db61bb1",
        "colab": {
          "base_uri": "https://localhost:8080/",
          "height": 34
        }
      },
      "source": [
        "_d = [\"SiteEnergyUse(kBtu)\"]\n",
        "#To predict variable : TotalGHGEmissions\n",
        "#Features : correlated quantitative variables\n",
        "#To remove (BuildingType, PrimaryPropertyType)\n",
        "Y = data_mix2[\"TotalGHGEmissions\"]\n",
        "X = data_mix2.drop([var for var in list(data_mix2.columns) if var not in _d], axis=1)\n",
        "Y = np.array(Y)\n",
        "X = np.array(X)\n",
        "Y = Y[~np.isnan(Y)]\n",
        "X = X[~np.isnan(X).any(axis=1)]\n",
        "#Remove NaN values\n",
        "Y = Y.reshape(Y.shape[0], 1)\n",
        "Y = Y[:min(X.shape[0], Y.shape[0]),:]\n",
        "X = X[:min(X.shape[0], Y.shape[0]), :]\n",
        "Y.shape, X.shape"
      ],
      "execution_count": null,
      "outputs": [
        {
          "output_type": "execute_result",
          "data": {
            "text/plain": [
              "((2918, 1), (2918, 1))"
            ]
          },
          "metadata": {
            "tags": []
          },
          "execution_count": 19
        }
      ]
    },
    {
      "cell_type": "code",
      "metadata": {
        "id": "J_ovIVr8P9P9",
        "outputId": "41232f2f-fcfb-4956-c1ec-1ddd58e84081",
        "colab": {
          "base_uri": "https://localhost:8080/",
          "height": 68
        }
      },
      "source": [
        "from sklearn.dummy import DummyRegressor\n",
        "dummy_regr = DummyRegressor(strategy=\"mean\")\n",
        "dummy_regr.fit(X, Y)\n",
        "DummyRegressor()\n",
        "print(dummy_regr.predict(X))\n",
        "print(dummy_regr.score(X, Y))"
      ],
      "execution_count": null,
      "outputs": [
        {
          "output_type": "stream",
          "text": [
            "[164.76364291 164.76364291 164.76364291 ... 164.76364291 164.76364291\n",
            " 164.76364291]\n",
            "0.0\n"
          ],
          "name": "stdout"
        }
      ]
    },
    {
      "cell_type": "markdown",
      "metadata": {
        "id": "kPrIDCvu-KI4"
      },
      "source": [
        "###Cas 2: Multivariate Linear Regression"
      ]
    },
    {
      "cell_type": "markdown",
      "metadata": {
        "id": "dtyEUWNu2k71"
      },
      "source": [
        "####Preparing data for model"
      ]
    },
    {
      "cell_type": "code",
      "metadata": {
        "id": "2QfksqiwwjH2"
      },
      "source": [
        "dict_errors = {}"
      ],
      "execution_count": null,
      "outputs": []
    },
    {
      "cell_type": "code",
      "metadata": {
        "id": "fCFyc5I6zPJA"
      },
      "source": [
        "_d = ['Number Of Years', 'NumberofBuildings', 'NumberofFloors', 'PropertyGFABuilding(s)']\n",
        "#_d = _d + list(categorical_data_l.columns)\n",
        "data_mix = data_mix2\n",
        "#To predict variable : TotalGHGEmissions\n",
        "#Features : correlated quantitative variables\n",
        "#To remove (BuildingType, PrimaryPropertyType)\n",
        "Y = data_mix[\"TotalGHGEmissions\"]\n",
        "X = data_mix.drop([var for var in list(data_mix.columns) if var not in _d], axis=1)\n",
        "Y = np.array(Y)\n",
        "X = np.array(X)\n",
        "#get where y is nan\n",
        "nanY = [i for i, val in enumerate(np.isnan(Y)) if val == True]\n",
        "#get where x is nan\n",
        "nanX = [i for i, val in enumerate(np.isnan(X).any(axis=1)) if val == True]\n",
        "toRemove = set(nanX + nanY)\n",
        "Y = np.delete(Y, list(toRemove))\n",
        "X = np.delete(X, list(toRemove), 0)\n",
        "Y = Y.reshape(Y.shape[0], 1)"
      ],
      "execution_count": null,
      "outputs": []
    },
    {
      "cell_type": "code",
      "metadata": {
        "id": "AkuVzfZ6nT_v",
        "outputId": "4e35075d-afeb-4e26-9003-698013dc5c36",
        "colab": {
          "base_uri": "https://localhost:8080/",
          "height": 34
        }
      },
      "source": [
        "X.shape, Y.shape"
      ],
      "execution_count": null,
      "outputs": [
        {
          "output_type": "execute_result",
          "data": {
            "text/plain": [
              "((2921, 4), (2921,))"
            ]
          },
          "metadata": {
            "tags": []
          },
          "execution_count": 23
        }
      ]
    },
    {
      "cell_type": "code",
      "metadata": {
        "id": "_TeUGSaizxO3",
        "outputId": "3ad020aa-77b0-440b-9ed0-10b05b6362c4",
        "colab": {
          "base_uri": "https://localhost:8080/",
          "height": 51
        }
      },
      "source": [
        "scaler_x = StandardScaler()\n",
        "scaler_y = StandardScaler()\n",
        "print(scaler_x.fit(X))\n",
        "Xscale=scaler_x.transform(X)\n",
        "print(scaler_y.fit(Y))\n",
        "Yscale=scaler_y.transform(Y)"
      ],
      "execution_count": null,
      "outputs": [
        {
          "output_type": "stream",
          "text": [
            "StandardScaler(copy=True, with_mean=True, with_std=True)\n",
            "StandardScaler(copy=True, with_mean=True, with_std=True)\n"
          ],
          "name": "stdout"
        }
      ]
    },
    {
      "cell_type": "code",
      "metadata": {
        "id": "xGCVho_U0vtN"
      },
      "source": [
        "X_train, X_test, y_train, y_test = train_test_split(Xscale, Yscale)"
      ],
      "execution_count": null,
      "outputs": []
    },
    {
      "cell_type": "markdown",
      "metadata": {
        "id": "rW2I2WtSYxNe"
      },
      "source": [
        "###Linear Regression using Scikit Learn"
      ]
    },
    {
      "cell_type": "code",
      "metadata": {
        "id": "hlfg746Q-mf4"
      },
      "source": [
        "def calcScores(model, X_test, y_test):\n",
        "  predictions = model.predict(X_test)\n",
        "  return {\"r2_score\": r2_score(y_test, predictions) , \"evs\": explained_variance_score(y_test, predictions), \"mse\": mean_squared_error(y_test, predictions), \"mae\": median_absolute_error(y_test, predictions)}"
      ],
      "execution_count": null,
      "outputs": []
    },
    {
      "cell_type": "code",
      "metadata": {
        "id": "eE0MTRS1rTIb",
        "outputId": "c01a8f4b-2313-4fda-b976-35fa77fab06d",
        "colab": {
          "base_uri": "https://localhost:8080/",
          "height": 51
        }
      },
      "source": [
        "from sklearn.linear_model import LinearRegression\n",
        "from sklearn.model_selection import cross_val_score\n",
        "clf = LinearRegression()\n",
        "scores = cross_val_score(clf, X_test, y_test, cv=6)\n",
        "scores"
      ],
      "execution_count": null,
      "outputs": [
        {
          "output_type": "execute_result",
          "data": {
            "text/plain": [
              "array([-0.84774942,  0.19280592, -0.7016548 ,  0.19448785,  0.25024827,\n",
              "        0.0225983 ])"
            ]
          },
          "metadata": {
            "tags": []
          },
          "execution_count": 34
        }
      ]
    },
    {
      "cell_type": "code",
      "metadata": {
        "id": "vMeAWl27sDpf",
        "outputId": "9fb6caa2-9486-49bb-8b97-abc7c9780075",
        "colab": {
          "base_uri": "https://localhost:8080/",
          "height": 119
        }
      },
      "source": [
        "from sklearn.linear_model import LinearRegression\n",
        "LinearRegression = LinearRegression()\n",
        "parameters = {'normalize': [True, False], 'normalize': [True, False]}\n",
        "LinearRegressionGCV = GridSearchCV(LinearRegression, parameters, cv=5)\n",
        "LinearRegressionGCV.fit(X_train, y_train)"
      ],
      "execution_count": null,
      "outputs": [
        {
          "output_type": "execute_result",
          "data": {
            "text/plain": [
              "GridSearchCV(cv=5, error_score=nan,\n",
              "             estimator=LinearRegression(copy_X=True, fit_intercept=True,\n",
              "                                        n_jobs=None, normalize=False),\n",
              "             iid='deprecated', n_jobs=None,\n",
              "             param_grid={'normalize': [True, False]}, pre_dispatch='2*n_jobs',\n",
              "             refit=True, return_train_score=False, scoring=None, verbose=0)"
            ]
          },
          "metadata": {
            "tags": []
          },
          "execution_count": 37
        }
      ]
    },
    {
      "cell_type": "code",
      "metadata": {
        "id": "JAz6i7FD0sNc",
        "outputId": "a2f7e775-5122-4f43-b4c4-ff60e961562e",
        "colab": {
          "base_uri": "https://localhost:8080/",
          "height": 34
        }
      },
      "source": [
        "LinearRegressionGCV.best_estimator_"
      ],
      "execution_count": null,
      "outputs": [
        {
          "output_type": "execute_result",
          "data": {
            "text/plain": [
              "LinearRegression(copy_X=True, fit_intercept=True, n_jobs=None, normalize=True)"
            ]
          },
          "metadata": {
            "tags": []
          },
          "execution_count": 39
        }
      ]
    },
    {
      "cell_type": "code",
      "metadata": {
        "id": "w6VgXFWSuyTB",
        "outputId": "7c02e83a-19d9-4c3d-c440-9a873cc9d217",
        "colab": {
          "base_uri": "https://localhost:8080/",
          "height": 34
        }
      },
      "source": [
        "LRScores_LinearRegressionGCV = calcScores(LinearRegressionGCV, X_test, y_test)\n",
        "print(LRScores_LinearRegressionGCV)"
      ],
      "execution_count": null,
      "outputs": [
        {
          "output_type": "stream",
          "text": [
            "{'r2_score': 0.17121672185121561, 'evs': 0.17122838423616682, 'mse': 0.8531453823057482, 'mae': 0.09571266560353858}\n"
          ],
          "name": "stdout"
        }
      ]
    },
    {
      "cell_type": "code",
      "metadata": {
        "id": "ZwffHmFUYwjv",
        "outputId": "dc83bc2a-9442-4d34-901e-8d4de0e33c78",
        "colab": {
          "base_uri": "https://localhost:8080/",
          "height": 34
        }
      },
      "source": [
        "#linear regression with default parameters\n",
        "reg = LinearRegression().fit(X_train, y_train)\n",
        "print(calcScores(reg, X_test, y_test))"
      ],
      "execution_count": null,
      "outputs": [
        {
          "output_type": "stream",
          "text": [
            "{'r2_score': 0.17121672185121561, 'evs': 0.17122838423616682, 'mse': 0.8531453823057482, 'mae': 0.09571266560353847}\n"
          ],
          "name": "stdout"
        }
      ]
    },
    {
      "cell_type": "markdown",
      "metadata": {
        "id": "uride668pRTq"
      },
      "source": [
        "###Cas 3: Regression Ridge (L2 Regularization)"
      ]
    },
    {
      "cell_type": "markdown",
      "metadata": {
        "id": "-W_MlYJApdX0"
      },
      "source": [
        "####Ridge using gridsearch over 'alpha'\n"
      ]
    },
    {
      "cell_type": "code",
      "metadata": {
        "id": "mMRE66-Kd0zB",
        "outputId": "851d8ac4-e501-45ef-b289-860c21a08346",
        "colab": {
          "base_uri": "https://localhost:8080/",
          "height": 408
        }
      },
      "source": [
        "n_alphas = 200\n",
        "ridge = Ridge()\n",
        "parameters = {'alpha': list(np.logspace(-5, 5, 200)), 'normalize': [True, False], 'fit_intercept': [True, False]}\n",
        "ridgeGCV = GridSearchCV(ridge, parameters)\n",
        "ridgeGCV.fit(X_train, y_train)"
      ],
      "execution_count": null,
      "outputs": [
        {
          "output_type": "execute_result",
          "data": {
            "text/plain": [
              "GridSearchCV(cv=None, error_score=nan,\n",
              "             estimator=Ridge(alpha=1.0, copy_X=True, fit_intercept=True,\n",
              "                             max_iter=None, normalize=False, random_state=None,\n",
              "                             solver='auto', tol=0.001),\n",
              "             iid='deprecated', n_jobs=None,\n",
              "             param_grid={'alpha': [1e-05, 1.1226677735108135e-05,\n",
              "                                   1.2603829296797274e-05,\n",
              "                                   1.414991297434576e-05, 1.588565129428053e-05,\n",
              "                                   1.7834308769319092e-05,\n",
              "                                   2.002200371815...\n",
              "                                   9.011018251665018e-05, 0.0001011637979766207,\n",
              "                                   0.00011357333583431052,\n",
              "                                   0.00012750512407130128,\n",
              "                                   0.00014314589375234786,\n",
              "                                   0.00016070528182616383,\n",
              "                                   0.00018041864093920718,\n",
              "                                   0.00020255019392306664,\n",
              "                                   0.00022739657523579274,\n",
              "                                   0.00025529080682395165, 0.000286606761694825, ...],\n",
              "                         'fit_intercept': [True, False],\n",
              "                         'normalize': [True, False]},\n",
              "             pre_dispatch='2*n_jobs', refit=True, return_train_score=False,\n",
              "             scoring=None, verbose=0)"
            ]
          },
          "metadata": {
            "tags": []
          },
          "execution_count": 43
        }
      ]
    },
    {
      "cell_type": "code",
      "metadata": {
        "id": "u1E30oDxeatW",
        "outputId": "d45c2d29-b5a1-460b-a520-8ef1ec2e41ab",
        "colab": {
          "base_uri": "https://localhost:8080/",
          "height": 51
        }
      },
      "source": [
        "ridgeGCV.best_estimator_"
      ],
      "execution_count": null,
      "outputs": [
        {
          "output_type": "execute_result",
          "data": {
            "text/plain": [
              "Ridge(alpha=0.6669919663030128, copy_X=True, fit_intercept=True, max_iter=None,\n",
              "      normalize=True, random_state=None, solver='auto', tol=0.001)"
            ]
          },
          "metadata": {
            "tags": []
          },
          "execution_count": 44
        }
      ]
    },
    {
      "cell_type": "code",
      "metadata": {
        "id": "Ppd0imF_fXHB",
        "outputId": "eda276ad-1787-475c-c117-eab7b3218b77",
        "colab": {
          "base_uri": "https://localhost:8080/",
          "height": 34
        }
      },
      "source": [
        "ridgeGCV.best_params_"
      ],
      "execution_count": null,
      "outputs": [
        {
          "output_type": "execute_result",
          "data": {
            "text/plain": [
              "{'alpha': 0.6669919663030128, 'fit_intercept': True, 'normalize': True}"
            ]
          },
          "metadata": {
            "tags": []
          },
          "execution_count": 45
        }
      ]
    },
    {
      "cell_type": "code",
      "metadata": {
        "id": "PXFbelNnenmV",
        "outputId": "cfba027a-95a5-4c87-e731-3de696231ee3",
        "colab": {
          "base_uri": "https://localhost:8080/",
          "height": 85
        }
      },
      "source": [
        "LRScores_ridge = calcScores(ridgeGCV, X_test, y_test)\n",
        "LRScores_ridge"
      ],
      "execution_count": null,
      "outputs": [
        {
          "output_type": "execute_result",
          "data": {
            "text/plain": [
              "{'evs': 0.18169819163611423,\n",
              " 'mae': 0.12595540686198692,\n",
              " 'mse': 0.8424512624470264,\n",
              " 'r2_score': 0.1816054643765208}"
            ]
          },
          "metadata": {
            "tags": []
          },
          "execution_count": 46
        }
      ]
    },
    {
      "cell_type": "markdown",
      "metadata": {
        "id": "JBY5Kc1iGW7D"
      },
      "source": [
        "###Cas 4: Regression Lasso (L1 Regularization)"
      ]
    },
    {
      "cell_type": "code",
      "metadata": {
        "id": "JGwDug2zEeY3",
        "outputId": "ecc01919-07a1-4163-fee3-deac2dfbbcbe",
        "colab": {
          "base_uri": "https://localhost:8080/",
          "height": 374
        }
      },
      "source": [
        "n_alphas = 200\n",
        "lasso = Lasso()\n",
        "parameters = {'alpha': list(np.logspace(-5, 5, n_alphas))}\n",
        "lassoGCV = GridSearchCV(lasso, parameters)\n",
        "lassoGCV.fit(X_train, y_train)"
      ],
      "execution_count": null,
      "outputs": [
        {
          "output_type": "execute_result",
          "data": {
            "text/plain": [
              "GridSearchCV(cv=None, error_score=nan,\n",
              "             estimator=Lasso(alpha=1.0, copy_X=True, fit_intercept=True,\n",
              "                             max_iter=1000, normalize=False, positive=False,\n",
              "                             precompute=False, random_state=None,\n",
              "                             selection='cyclic', tol=0.0001, warm_start=False),\n",
              "             iid='deprecated', n_jobs=None,\n",
              "             param_grid={'alpha': [1e-05, 1.1226677735108135e-05,\n",
              "                                   1.2603829296797274e-05,\n",
              "                                   1.414991297434576e-05, 1.58...\n",
              "                                   7.149428986597576e-05, 8.026433522257174e-05,\n",
              "                                   9.011018251665018e-05, 0.0001011637979766207,\n",
              "                                   0.00011357333583431052,\n",
              "                                   0.00012750512407130128,\n",
              "                                   0.00014314589375234786,\n",
              "                                   0.00016070528182616383,\n",
              "                                   0.00018041864093920718,\n",
              "                                   0.00020255019392306664,\n",
              "                                   0.00022739657523579274,\n",
              "                                   0.00025529080682395165, 0.000286606761694825, ...]},\n",
              "             pre_dispatch='2*n_jobs', refit=True, return_train_score=False,\n",
              "             scoring=None, verbose=0)"
            ]
          },
          "metadata": {
            "tags": []
          },
          "execution_count": 47
        }
      ]
    },
    {
      "cell_type": "code",
      "metadata": {
        "id": "cwE3-hkRE3hq",
        "outputId": "3b1b1471-95bb-4a2e-9918-b086618fc87c",
        "colab": {
          "base_uri": "https://localhost:8080/",
          "height": 34
        }
      },
      "source": [
        "lassoGCV.best_params_"
      ],
      "execution_count": null,
      "outputs": [
        {
          "output_type": "execute_result",
          "data": {
            "text/plain": [
              "{'alpha': 0.18679135990207846}"
            ]
          },
          "metadata": {
            "tags": []
          },
          "execution_count": 48
        }
      ]
    },
    {
      "cell_type": "code",
      "metadata": {
        "id": "zbPrG0oupWYe",
        "outputId": "eea14c72-b7a8-4a50-9e56-3ad9207afb91",
        "colab": {
          "base_uri": "https://localhost:8080/",
          "height": 68
        }
      },
      "source": [
        "lasso = Lasso(alpha=lassoGCV.best_params_['alpha'])\n",
        "lasso.fit(X_train, y_train)"
      ],
      "execution_count": null,
      "outputs": [
        {
          "output_type": "execute_result",
          "data": {
            "text/plain": [
              "Lasso(alpha=0.18679135990207846, copy_X=True, fit_intercept=True, max_iter=1000,\n",
              "      normalize=False, positive=False, precompute=False, random_state=None,\n",
              "      selection='cyclic', tol=0.0001, warm_start=False)"
            ]
          },
          "metadata": {
            "tags": []
          },
          "execution_count": 49
        }
      ]
    },
    {
      "cell_type": "code",
      "metadata": {
        "id": "FyKSX_NsE_h9",
        "outputId": "8b7bbaea-24c8-4a57-cf20-c76b9a6da24e",
        "colab": {
          "base_uri": "https://localhost:8080/",
          "height": 85
        }
      },
      "source": [
        "LRScores_lasso = calcScores(lassoGCV, X_test, y_test)\n",
        "LRScores_lasso"
      ],
      "execution_count": null,
      "outputs": [
        {
          "output_type": "execute_result",
          "data": {
            "text/plain": [
              "{'evs': 0.18688554011571712,\n",
              " 'mae': 0.12082289050430323,\n",
              " 'mse': 0.8371059072290009,\n",
              " 'r2_score': 0.18679817960694456}"
            ]
          },
          "metadata": {
            "tags": []
          },
          "execution_count": 50
        }
      ]
    },
    {
      "cell_type": "markdown",
      "metadata": {
        "id": "zBDzCj_cFQxp"
      },
      "source": [
        "##Random Forest"
      ]
    },
    {
      "cell_type": "code",
      "metadata": {
        "id": "6jjF1NpMLd-8",
        "outputId": "25a1115e-54c6-4ffc-ddeb-9d99b952efbf",
        "colab": {
          "base_uri": "https://localhost:8080/",
          "height": 377
        }
      },
      "source": [
        "from sklearn.ensemble import RandomForestRegressor\n",
        "liste_depth = list(range(10))\n",
        "RandomForestRegressor = RandomForestRegressor()\n",
        "parameters = {'max_depth': liste_depth}\n",
        "RandomForestRegressorGCV = GridSearchCV(RandomForestRegressor, parameters, n_jobs = 10)\n",
        "RandomForestRegressorGCV.fit(X_train, y_train)"
      ],
      "execution_count": null,
      "outputs": [
        {
          "output_type": "stream",
          "text": [
            "/usr/local/lib/python3.6/dist-packages/sklearn/model_selection/_search.py:739: DataConversionWarning: A column-vector y was passed when a 1d array was expected. Please change the shape of y to (n_samples,), for example using ravel().\n",
            "  self.best_estimator_.fit(X, y, **fit_params)\n"
          ],
          "name": "stderr"
        },
        {
          "output_type": "execute_result",
          "data": {
            "text/plain": [
              "GridSearchCV(cv=None, error_score=nan,\n",
              "             estimator=RandomForestRegressor(bootstrap=True, ccp_alpha=0.0,\n",
              "                                             criterion='mse', max_depth=None,\n",
              "                                             max_features='auto',\n",
              "                                             max_leaf_nodes=None,\n",
              "                                             max_samples=None,\n",
              "                                             min_impurity_decrease=0.0,\n",
              "                                             min_impurity_split=None,\n",
              "                                             min_samples_leaf=1,\n",
              "                                             min_samples_split=2,\n",
              "                                             min_weight_fraction_leaf=0.0,\n",
              "                                             n_estimators=100, n_jobs=None,\n",
              "                                             oob_score=False, random_state=None,\n",
              "                                             verbose=0, warm_start=False),\n",
              "             iid='deprecated', n_jobs=10,\n",
              "             param_grid={'max_depth': [0, 1, 2, 3, 4, 5, 6, 7, 8, 9]},\n",
              "             pre_dispatch='2*n_jobs', refit=True, return_train_score=False,\n",
              "             scoring=None, verbose=0)"
            ]
          },
          "metadata": {
            "tags": []
          },
          "execution_count": 53
        }
      ]
    },
    {
      "cell_type": "code",
      "metadata": {
        "id": "4U9WeaDabKeX",
        "outputId": "b0f6f22f-7bd1-45d2-c12d-3c2367aa564e",
        "colab": {
          "base_uri": "https://localhost:8080/",
          "height": 34
        }
      },
      "source": [
        "RandomForestRegressorGCV.best_params_"
      ],
      "execution_count": null,
      "outputs": [
        {
          "output_type": "execute_result",
          "data": {
            "text/plain": [
              "{'max_depth': 3}"
            ]
          },
          "metadata": {
            "tags": []
          },
          "execution_count": 54
        }
      ]
    },
    {
      "cell_type": "code",
      "metadata": {
        "id": "ajvfohlGbVfH",
        "outputId": "837e71df-dc40-4b08-aaf0-088a9ac927ba",
        "colab": {
          "base_uri": "https://localhost:8080/",
          "height": 85
        }
      },
      "source": [
        "LRScores_RandomForestRegressor = calcScores(RandomForestRegressorGCV, X_test, y_test)\n",
        "LRScores_RandomForestRegressor"
      ],
      "execution_count": null,
      "outputs": [
        {
          "output_type": "execute_result",
          "data": {
            "text/plain": [
              "{'evs': 0.09838445668516593,\n",
              " 'mae': 0.11105813785293506,\n",
              " 'mse': 0.9293361910573736,\n",
              " 'r2_score': 0.09720158966903236}"
            ]
          },
          "metadata": {
            "tags": []
          },
          "execution_count": 56
        }
      ]
    },
    {
      "cell_type": "markdown",
      "metadata": {
        "id": "Zl9tJF6Hb_tu"
      },
      "source": [
        "##Random forest sans GCV"
      ]
    },
    {
      "cell_type": "code",
      "metadata": {
        "id": "tdhCF4dRUPeJ",
        "outputId": "977e599e-a54c-46e3-ee14-e825ee09d6ea",
        "colab": {
          "base_uri": "https://localhost:8080/",
          "height": 71
        }
      },
      "source": [
        "from sklearn.ensemble import RandomForestRegressor\n",
        "from sklearn.datasets import make_regression\n",
        "regr = RandomForestRegressor(n_estimators = 300, max_depth=5, random_state=0)\n",
        "clf = regr.fit(X_train, y_train)"
      ],
      "execution_count": null,
      "outputs": [
        {
          "output_type": "stream",
          "text": [
            "/usr/local/lib/python3.6/dist-packages/ipykernel_launcher.py:4: DataConversionWarning: A column-vector y was passed when a 1d array was expected. Please change the shape of y to (n_samples,), for example using ravel().\n",
            "  after removing the cwd from sys.path.\n"
          ],
          "name": "stderr"
        }
      ]
    },
    {
      "cell_type": "code",
      "metadata": {
        "id": "JGlhtWneDdK7"
      },
      "source": [
        "RandomForestErros = calcScores(clf, X_test, y_test)"
      ],
      "execution_count": null,
      "outputs": []
    },
    {
      "cell_type": "code",
      "metadata": {
        "id": "Jmx54wvufJov",
        "outputId": "7e88b6b8-785a-409d-d5d1-758a14b42ef0",
        "colab": {
          "base_uri": "https://localhost:8080/",
          "height": 85
        }
      },
      "source": [
        "RandomForestErros"
      ],
      "execution_count": null,
      "outputs": [
        {
          "output_type": "execute_result",
          "data": {
            "text/plain": [
              "{'evs': 0.1577037944294406,\n",
              " 'mae': 0.07852970845353327,\n",
              " 'mse': 0.8685584761292775,\n",
              " 'r2_score': 0.15624375863719042}"
            ]
          },
          "metadata": {
            "tags": []
          },
          "execution_count": 62
        }
      ]
    },
    {
      "cell_type": "markdown",
      "metadata": {
        "id": "v2Qv2NEV89mb"
      },
      "source": [
        "##XGBOOST"
      ]
    },
    {
      "cell_type": "code",
      "metadata": {
        "id": "P65oe1Onr8Oz",
        "outputId": "5a5d3fb5-7099-4e25-81d5-c585078a0990",
        "colab": {
          "base_uri": "https://localhost:8080/",
          "height": 666
        }
      },
      "source": [
        "xgb = xgboost.XGBRegressor() \n",
        "parameters = {'learning_rate': [0.001, 0.01, 0.1, 1], 'gamma': list(np.logspace(-5, 5, 50)), 'max_depth': [1, 2, 3, 4, 5, 6, 7, 8, 9]}\n",
        "xgbGSCV = GridSearchCV(xgb, parameters, verbose=1, n_jobs=10)\n",
        "xgbGSCV.fit(X_train, y_train)"
      ],
      "execution_count": null,
      "outputs": [
        {
          "output_type": "stream",
          "text": [
            "Fitting 5 folds for each of 1800 candidates, totalling 9000 fits\n"
          ],
          "name": "stdout"
        },
        {
          "output_type": "stream",
          "text": [
            "[Parallel(n_jobs=10)]: Using backend LokyBackend with 10 concurrent workers.\n",
            "[Parallel(n_jobs=10)]: Done  30 tasks      | elapsed:   11.6s\n",
            "[Parallel(n_jobs=10)]: Done 180 tasks      | elapsed:   26.9s\n",
            "[Parallel(n_jobs=10)]: Done 430 tasks      | elapsed:   52.0s\n",
            "[Parallel(n_jobs=10)]: Done 780 tasks      | elapsed:  1.5min\n",
            "[Parallel(n_jobs=10)]: Done 1230 tasks      | elapsed:  2.2min\n",
            "[Parallel(n_jobs=10)]: Done 1780 tasks      | elapsed:  3.1min\n",
            "[Parallel(n_jobs=10)]: Done 2430 tasks      | elapsed:  4.2min\n",
            "[Parallel(n_jobs=10)]: Done 3180 tasks      | elapsed:  5.5min\n",
            "[Parallel(n_jobs=10)]: Done 4030 tasks      | elapsed:  6.9min\n",
            "[Parallel(n_jobs=10)]: Done 4980 tasks      | elapsed:  8.5min\n",
            "[Parallel(n_jobs=10)]: Done 6030 tasks      | elapsed: 10.2min\n",
            "[Parallel(n_jobs=10)]: Done 7180 tasks      | elapsed: 12.1min\n",
            "[Parallel(n_jobs=10)]: Done 8430 tasks      | elapsed: 14.2min\n"
          ],
          "name": "stderr"
        },
        {
          "output_type": "stream",
          "text": [
            "[20:42:04] WARNING: /workspace/src/objective/regression_obj.cu:152: reg:linear is now deprecated in favor of reg:squarederror.\n"
          ],
          "name": "stdout"
        },
        {
          "output_type": "stream",
          "text": [
            "[Parallel(n_jobs=10)]: Done 9000 out of 9000 | elapsed: 15.1min finished\n"
          ],
          "name": "stderr"
        },
        {
          "output_type": "execute_result",
          "data": {
            "text/plain": [
              "GridSearchCV(cv=None, error_score=nan,\n",
              "             estimator=XGBRegressor(base_score=0.5, booster='gbtree',\n",
              "                                    colsample_bylevel=1, colsample_bynode=1,\n",
              "                                    colsample_bytree=1, gamma=0,\n",
              "                                    importance_type='gain', learning_rate=0.1,\n",
              "                                    max_delta_step=0, max_depth=3,\n",
              "                                    min_child_weight=1, missing=None,\n",
              "                                    n_estimators=100, n_jobs=1, nthread=None,\n",
              "                                    objective='reg:linear', random_state=0,\n",
              "                                    reg_alpha=0, r...\n",
              "                                   0.07543120063354623, 0.1206792640639329,\n",
              "                                   0.19306977288832497, 0.30888435964774846,\n",
              "                                   0.49417133613238384, 0.7906043210907702,\n",
              "                                   1.2648552168552958, 2.0235896477251556,\n",
              "                                   3.2374575428176464, 5.1794746792312125,\n",
              "                                   8.286427728546842, ...],\n",
              "                         'learning_rate': [0.001, 0.01, 0.1, 1],\n",
              "                         'max_depth': [1, 2, 3, 4, 5, 6, 7, 8, 9]},\n",
              "             pre_dispatch='2*n_jobs', refit=True, return_train_score=False,\n",
              "             scoring=None, verbose=1)"
            ]
          },
          "metadata": {
            "tags": []
          },
          "execution_count": 67
        }
      ]
    },
    {
      "cell_type": "code",
      "metadata": {
        "id": "Eh05NaUIEsyu",
        "outputId": "89ec8018-68c0-4df8-84d9-ab423cfcbd5f",
        "colab": {
          "base_uri": "https://localhost:8080/",
          "height": 136
        }
      },
      "source": [
        "xgbGSCV.best_estimator_"
      ],
      "execution_count": null,
      "outputs": [
        {
          "output_type": "execute_result",
          "data": {
            "text/plain": [
              "XGBRegressor(base_score=0.5, booster='gbtree', colsample_bylevel=1,\n",
              "             colsample_bynode=1, colsample_bytree=1, gamma=0.1206792640639329,\n",
              "             importance_type='gain', learning_rate=0.1, max_delta_step=0,\n",
              "             max_depth=4, min_child_weight=1, missing=None, n_estimators=100,\n",
              "             n_jobs=1, nthread=None, objective='reg:linear', random_state=0,\n",
              "             reg_alpha=0, reg_lambda=1, scale_pos_weight=1, seed=None,\n",
              "             silent=None, subsample=1, verbosity=1)"
            ]
          },
          "metadata": {
            "tags": []
          },
          "execution_count": 68
        }
      ]
    },
    {
      "cell_type": "code",
      "metadata": {
        "id": "itftqLaquN44",
        "outputId": "7b0c6020-a05d-496b-ff5b-09b0c1413365",
        "colab": {
          "base_uri": "https://localhost:8080/",
          "height": 51
        }
      },
      "source": [
        "print(calcScores(xgbGSCV, X_train, y_train))\n",
        "print(calcScores(xgbGSCV, X_test, y_test))"
      ],
      "execution_count": null,
      "outputs": [
        {
          "output_type": "stream",
          "text": [
            "{'r2_score': 0.9055465602298314, 'evs': 0.9055466569735795, 'mse': 0.08668360156709087, 'mae': 0.07674073292432587}\n",
            "{'r2_score': 0.6334198971516991, 'evs': 0.6338048777461021, 'mse': 0.45677945292705463, 'mae': 0.07508224503181621}\n"
          ],
          "name": "stdout"
        }
      ]
    },
    {
      "cell_type": "code",
      "metadata": {
        "id": "FvsTeL1Dstf-"
      },
      "source": [
        "from sklearn import linear_model\n",
        "from sklearn.model_selection import cross_validate\n",
        "from sklearn.metrics import make_scorer\n",
        "from sklearn.metrics import confusion_matrix\n",
        "cv_results = cross_validate(xgbGSCV, Xscale, Yscale, cv=5)\n",
        "sorted(cv_results.keys())\n",
        "cv_results['test_score']"
      ],
      "execution_count": null,
      "outputs": []
    },
    {
      "cell_type": "code",
      "metadata": {
        "id": "mKBajX2C7vVn"
      },
      "source": [
        "xgb = xgboost.XGBRegressor(n_estimators=100, learning_rate=0.1, subsample=0.75, colsample_bytree=1, max_depth=5)"
      ],
      "execution_count": null,
      "outputs": []
    },
    {
      "cell_type": "code",
      "metadata": {
        "id": "lx5VBuT-88dl",
        "outputId": "6e59b52e-0ba6-48c1-c64d-c0acd476fd73",
        "colab": {
          "base_uri": "https://localhost:8080/",
          "height": 88
        }
      },
      "source": [
        "xgb.fit(X_train, y_train)\n",
        "print(calcScores(xgb, X_train, y_train))\n",
        "print(calcScores(xgb, X_test, y_test))"
      ],
      "execution_count": null,
      "outputs": [
        {
          "output_type": "stream",
          "text": [
            "[16:27:23] WARNING: /workspace/src/objective/regression_obj.cu:152: reg:linear is now deprecated in favor of reg:squarederror.\n",
            "{'r2_score': 0.9375280747377622, 'evs': 0.9375293522425692, 'mse': 0.06184987897217107, 'mae': 0.07180692453863693}\n",
            "{'r2_score': 0.3541704615349708, 'evs': 0.35524340826806755, 'mse': 0.6648137130961495, 'mae': 0.07564910639401784}\n"
          ],
          "name": "stdout"
        }
      ]
    },
    {
      "cell_type": "markdown",
      "metadata": {
        "id": "YrEYkfKRMr8B"
      },
      "source": [
        "#Prédictions de la consommation totale d'énergie"
      ]
    },
    {
      "cell_type": "markdown",
      "metadata": {
        "id": "6Q5g-gVszJxU"
      },
      "source": [
        "###Data preparation"
      ]
    },
    {
      "cell_type": "code",
      "metadata": {
        "id": "3INCU5AtzJxV"
      },
      "source": [
        "_d = [\"SiteEnergyUse(kBtu)\"]\n",
        "#To predict variable : TotalGHGEmissions\n",
        "#Features : correlated quantitative variables\n",
        "#To remove (BuildingType, PrimaryPropertyType)\n",
        "Y = data_mix2[\"SiteEnergyUse(kBtu)\"]\n",
        "X = data_mix2.drop([var for var in list(data_mix2.columns) if var not in _d], axis=1)\n",
        "Y = np.array(Y)\n",
        "X = np.array(X)\n",
        "Y = Y[~np.isnan(Y)]\n",
        "X = X[~np.isnan(X).any(axis=1)]\n",
        "#Remove NaN values\n",
        "Y = Y.reshape(Y.shape[0], 1)\n",
        "Y = Y[:min(X.shape[0], Y.shape[0]),:]\n",
        "X = X[:min(X.shape[0], Y.shape[0]), :]\n",
        "Y.shape, X.shape"
      ],
      "execution_count": null,
      "outputs": []
    },
    {
      "cell_type": "code",
      "metadata": {
        "id": "8rQpB7ffzJxY"
      },
      "source": [
        "from sklearn.dummy import DummyRegressor\n",
        "dummy_regr = DummyRegressor(strategy=\"mean\")\n",
        "dummy_regr.fit(X, Y)\n",
        "DummyRegressor()\n",
        "print(dummy_regr.predict(X))\n",
        "print(dummy_regr.score(X, Y))"
      ],
      "execution_count": null,
      "outputs": []
    },
    {
      "cell_type": "markdown",
      "metadata": {
        "id": "QF-JojOVzJxa"
      },
      "source": [
        "####Preparing data for model"
      ]
    },
    {
      "cell_type": "code",
      "metadata": {
        "id": "3Y7sS4XBzJxa"
      },
      "source": [
        "dict_errors = {}"
      ],
      "execution_count": null,
      "outputs": []
    },
    {
      "cell_type": "code",
      "metadata": {
        "id": "uEDbMTh25TVH"
      },
      "source": [
        "_d = ['Number Of Years', 'NumberofBuildings', 'NumberofFloors', 'PropertyGFABuilding(s)']\n",
        "#_d = _d + list(categorical_data_l.columns)\n",
        "data_mix = data_mix2\n",
        "#To predict variable : TotalGHGEmissions\n",
        "#Features : correlated quantitative variables\n",
        "#To remove (BuildingType, PrimaryPropertyType)\n",
        "Y = data_mix[\"TotalGHGEmissions\"]\n",
        "X = data_mix.drop([var for var in list(data_mix.columns) if var not in _d], axis=1)\n",
        "Y = np.array(Y)\n",
        "X = np.array(X)\n",
        "#get where y is nan\n",
        "nanY = [i for i, val in enumerate(np.isnan(Y)) if val == True]\n",
        "#get where x is nan\n",
        "nanX = [i for i, val in enumerate(np.isnan(X).any(axis=1)) if val == True]\n",
        "toRemove = set(nanX + nanY)\n",
        "Y = np.delete(Y, list(toRemove))\n",
        "X = np.delete(X, list(toRemove), 0)\n",
        "Y = Y.reshape(Y.shape[0], 1)"
      ],
      "execution_count": null,
      "outputs": []
    },
    {
      "cell_type": "code",
      "metadata": {
        "id": "DAl41UU3zJxc",
        "outputId": "43dd05db-0300-4913-c1a4-672badcbd4d8",
        "colab": {
          "base_uri": "https://localhost:8080/",
          "height": 34
        }
      },
      "source": [
        "_d = ['Number Of Years','NumberofBuildings','NumberofFloors','PropertyGFABuilding(s)']\n",
        "#_d = _d + list(categorical_data.columns)\n",
        "data_mix = data_mix2\n",
        "#To predict variable : TotalGHGEmissions\n",
        "#Features : correlated quantitative variables\n",
        "#To remove (BuildingType, PrimaryPropertyType)\n",
        "Y = data_mix[\"SiteEnergyUse(kBtu)\"]\n",
        "X = data_mix.drop([var for var in list(data_mix.columns) if var not in _d], axis=1)\n",
        "Y = np.array(Y)\n",
        "X = np.array(X)\n",
        "#get where y is nan\n",
        "nanY = [i for i, val in enumerate(np.isnan(Y)) if val == True]\n",
        "#get where x is nan\n",
        "nanX = [i for i, val in enumerate(np.isnan(X).any(axis=1)) if val == True]\n",
        "toRemove = set(nanX + nanY)\n",
        "Y = np.delete(Y, list(toRemove))\n",
        "X = np.delete(X, list(toRemove), 0)\n",
        "Y = Y.reshape(Y.shape[0], 1)\n",
        "Y.shape, X.shape"
      ],
      "execution_count": null,
      "outputs": [
        {
          "output_type": "execute_result",
          "data": {
            "text/plain": [
              "((2914, 1), (2914, 4))"
            ]
          },
          "metadata": {
            "tags": []
          },
          "execution_count": 68
        }
      ]
    },
    {
      "cell_type": "code",
      "metadata": {
        "id": "hc83PTjezJxe",
        "outputId": "5dfcf173-544a-476d-a01e-8ce7e595ba0c",
        "colab": {
          "base_uri": "https://localhost:8080/",
          "height": 51
        }
      },
      "source": [
        "scaler_x = StandardScaler()\n",
        "scaler_y = StandardScaler()\n",
        "print(scaler_x.fit(X))\n",
        "Xscale=scaler_x.transform(X)\n",
        "print(scaler_y.fit(Y))\n",
        "Yscale=scaler_y.transform(Y)"
      ],
      "execution_count": null,
      "outputs": [
        {
          "output_type": "stream",
          "text": [
            "StandardScaler(copy=True, with_mean=True, with_std=True)\n",
            "StandardScaler(copy=True, with_mean=True, with_std=True)\n"
          ],
          "name": "stdout"
        }
      ]
    },
    {
      "cell_type": "code",
      "metadata": {
        "id": "qnRhQpr4zJxg"
      },
      "source": [
        "X_train, X_test, y_train, y_test = train_test_split(Xscale, Yscale)"
      ],
      "execution_count": null,
      "outputs": []
    },
    {
      "cell_type": "markdown",
      "metadata": {
        "id": "z25GQe0VzJxi"
      },
      "source": [
        "####Multivariant Linear Regression Functions"
      ]
    },
    {
      "cell_type": "code",
      "metadata": {
        "id": "T1xDT97czJxj"
      },
      "source": [
        "def forward(X, W, b):\n",
        "  #Returns Prediction based on aX + b \n",
        "  Yhat = np.dot(X, W.T) + b\n",
        "  return Yhat"
      ],
      "execution_count": null,
      "outputs": []
    },
    {
      "cell_type": "code",
      "metadata": {
        "id": "e4qvYoS1zJxl"
      },
      "source": [
        "def cost(Yhat, Y):\n",
        "  #returns scalar\n",
        "  diff = np.power(Yhat - Y, 2)\n",
        "  return diff.sum()/Yhat.shape[0]"
      ],
      "execution_count": null,
      "outputs": []
    },
    {
      "cell_type": "code",
      "metadata": {
        "id": "MrYPWe-NzJxm"
      },
      "source": [
        "def calculateDerivatives(X, Y, Yhat):\n",
        "  n = X.shape[0]\n",
        "  diff = Y - Yhat\n",
        "  mult = np.dot(X.T, diff)\n",
        "  Da = (-2/n) * mult\n",
        "  Db = (-2/n) * diff.sum()\n",
        "  return Da, Db"
      ],
      "execution_count": null,
      "outputs": []
    },
    {
      "cell_type": "code",
      "metadata": {
        "id": "VnAOOmpBzJxo"
      },
      "source": [
        "def updateParams(W, b, Da, Db, lr):\n",
        "  W_new = W - lr * Da.T\n",
        "  b_new = b - lr * Db\n",
        "  return W_new, b_new"
      ],
      "execution_count": null,
      "outputs": []
    },
    {
      "cell_type": "code",
      "metadata": {
        "id": "3KKdXHzQzJxq"
      },
      "source": [
        "def uniLinearRegression(X, Y, lr=0.001, epochs=500):\n",
        "  W = np.random.rand(1,X.shape[1])\n",
        "  b = 0\n",
        "  errors = []\n",
        "  for i in range(epochs):\n",
        "    Yhat = forward(X, W, b)\n",
        "    Yhat = Yhat/Yhat.mean()\n",
        "    if i%100 == 0: print('Interation '+str(i), W, b)\n",
        "    err = cost(Yhat, Y)\n",
        "    errors.append(err)\n",
        "    Da, Db = calculateDerivatives(X, Y, Yhat)\n",
        "    W, b = updateParams(W, b, Da, Db, lr)\n",
        "  return W, b, errors"
      ],
      "execution_count": null,
      "outputs": []
    },
    {
      "cell_type": "code",
      "metadata": {
        "id": "oPlwCszgzJxs"
      },
      "source": [
        "W, b, errors = uniLinearRegression(X_train, y_train, epochs=500)"
      ],
      "execution_count": null,
      "outputs": []
    },
    {
      "cell_type": "code",
      "metadata": {
        "id": "KKS5lnsdzJxt"
      },
      "source": [
        "plt.plot(errors)\n",
        "plt.ylabel('cost')\n",
        "plt.xlabel('iterations (per tens)')\n",
        "plt.title(\"MSE\")\n",
        "plt.show()"
      ],
      "execution_count": null,
      "outputs": []
    },
    {
      "cell_type": "markdown",
      "metadata": {
        "id": "WK8TX6NVzJxU"
      },
      "source": [
        "##Linear Regression"
      ]
    },
    {
      "cell_type": "markdown",
      "metadata": {
        "id": "BEnqbejYzJxa"
      },
      "source": [
        "###Cas 2: Multivariate Linear Regression"
      ]
    },
    {
      "cell_type": "markdown",
      "metadata": {
        "id": "i9rtnIxdzJxv"
      },
      "source": [
        "###Linear Regression using Scikit Learn"
      ]
    },
    {
      "cell_type": "code",
      "metadata": {
        "id": "J1-cs75dzJxw"
      },
      "source": [
        "def calcScores(model, X_test, y_test):\n",
        "  predictions = model.predict(X_test)\n",
        "  return {\"r2_score\": r2_score(y_test, predictions) , \"evs\": explained_variance_score(y_test, predictions), \"mse\": mean_squared_error(y_test, predictions), \"mae\": median_absolute_error(y_test, predictions)}"
      ],
      "execution_count": null,
      "outputs": []
    },
    {
      "cell_type": "code",
      "metadata": {
        "id": "GAo53IvMzJxx",
        "outputId": "f3efc2c9-2a87-419e-8e1b-a75b16718eb9",
        "colab": {
          "base_uri": "https://localhost:8080/",
          "height": 34
        }
      },
      "source": [
        "reg = LinearRegression().fit(X_train, y_train)\n",
        "reg.score(X_test, y_test)\n",
        "reg.coef_\n",
        "reg.intercept_"
      ],
      "execution_count": null,
      "outputs": [
        {
          "output_type": "execute_result",
          "data": {
            "text/plain": [
              "array([-0.00387505])"
            ]
          },
          "metadata": {
            "tags": []
          },
          "execution_count": 72
        }
      ]
    },
    {
      "cell_type": "code",
      "metadata": {
        "id": "UFj6TaCezJxz",
        "outputId": "a2da566c-8e4d-4ee0-df10-babb885a4653",
        "colab": {
          "base_uri": "https://localhost:8080/",
          "height": 34
        }
      },
      "source": [
        "LRScores_linear_regression = calcScores(reg, X_test, y_test)\n",
        "print(LRScores_linear_regression)"
      ],
      "execution_count": null,
      "outputs": [
        {
          "output_type": "stream",
          "text": [
            "{'r2_score': 0.5804762393604774, 'evs': 0.5806765553979103, 'mse': 0.5024796466062168, 'mae': 0.10447913459287506}\n"
          ],
          "name": "stdout"
        }
      ]
    },
    {
      "cell_type": "markdown",
      "metadata": {
        "id": "0lW0AhZFzJx6"
      },
      "source": [
        "###Cas 3: Regression Ridge (L2 Regularization)"
      ]
    },
    {
      "cell_type": "markdown",
      "metadata": {
        "id": "k0syWRMSzJx6"
      },
      "source": [
        "####La baseline : une régression classique\n"
      ]
    },
    {
      "cell_type": "code",
      "metadata": {
        "id": "_1L_owY0zJx6",
        "outputId": "d3da3588-6ef8-4249-875c-6f16135ee8b4",
        "colab": {
          "base_uri": "https://localhost:8080/",
          "height": 391
        }
      },
      "source": [
        "n_alphas = 200\n",
        "ridge = Ridge()\n",
        "parameters = {'alpha': list(np.logspace(-5, 5, n_alphas))}\n",
        "ridgeGCV = GridSearchCV(ridge, parameters)\n",
        "ridgeGCV.fit(X_train, y_train)"
      ],
      "execution_count": null,
      "outputs": [
        {
          "output_type": "execute_result",
          "data": {
            "text/plain": [
              "GridSearchCV(cv=None, error_score=nan,\n",
              "             estimator=Ridge(alpha=1.0, copy_X=True, fit_intercept=True,\n",
              "                             max_iter=None, normalize=False, random_state=None,\n",
              "                             solver='auto', tol=0.001),\n",
              "             iid='deprecated', n_jobs=None,\n",
              "             param_grid={'alpha': [1e-05, 1.1226677735108135e-05,\n",
              "                                   1.2603829296797274e-05,\n",
              "                                   1.414991297434576e-05, 1.588565129428053e-05,\n",
              "                                   1.7834308769319092e-05,\n",
              "                                   2.002200371815...\n",
              "                                   7.149428986597576e-05, 8.026433522257174e-05,\n",
              "                                   9.011018251665018e-05, 0.0001011637979766207,\n",
              "                                   0.00011357333583431052,\n",
              "                                   0.00012750512407130128,\n",
              "                                   0.00014314589375234786,\n",
              "                                   0.00016070528182616383,\n",
              "                                   0.00018041864093920718,\n",
              "                                   0.00020255019392306664,\n",
              "                                   0.00022739657523579274,\n",
              "                                   0.00025529080682395165, 0.000286606761694825, ...]},\n",
              "             pre_dispatch='2*n_jobs', refit=True, return_train_score=False,\n",
              "             scoring=None, verbose=0)"
            ]
          },
          "metadata": {
            "tags": []
          },
          "execution_count": 74
        }
      ]
    },
    {
      "cell_type": "code",
      "metadata": {
        "id": "61SdXtTFzJx9",
        "outputId": "f0ee0f58-94a4-4c6e-ef28-2c512b260263",
        "colab": {
          "base_uri": "https://localhost:8080/",
          "height": 255
        }
      },
      "source": [
        "sorted(ridgeGCV.cv_results_.keys())"
      ],
      "execution_count": null,
      "outputs": [
        {
          "output_type": "execute_result",
          "data": {
            "text/plain": [
              "['mean_fit_time',\n",
              " 'mean_score_time',\n",
              " 'mean_test_score',\n",
              " 'param_alpha',\n",
              " 'params',\n",
              " 'rank_test_score',\n",
              " 'split0_test_score',\n",
              " 'split1_test_score',\n",
              " 'split2_test_score',\n",
              " 'split3_test_score',\n",
              " 'split4_test_score',\n",
              " 'std_fit_time',\n",
              " 'std_score_time',\n",
              " 'std_test_score']"
            ]
          },
          "metadata": {
            "tags": []
          },
          "execution_count": 75
        }
      ]
    },
    {
      "cell_type": "code",
      "metadata": {
        "id": "cDfcTP16zJx-",
        "outputId": "4b962dc4-5283-4c14-de45-f75bfa40eb1b",
        "colab": {
          "base_uri": "https://localhost:8080/",
          "height": 34
        }
      },
      "source": [
        "ridgeGCV.best_params_"
      ],
      "execution_count": null,
      "outputs": [
        {
          "output_type": "execute_result",
          "data": {
            "text/plain": [
              "{'alpha': 60.80224261649427}"
            ]
          },
          "metadata": {
            "tags": []
          },
          "execution_count": 76
        }
      ]
    },
    {
      "cell_type": "code",
      "metadata": {
        "id": "6b6RxL0hzJyA",
        "outputId": "e660e9d0-6db5-4858-8e6d-0001211a02bd",
        "colab": {
          "base_uri": "https://localhost:8080/",
          "height": 85
        }
      },
      "source": [
        "LRScores_ridge = calcScores(ridgeGCV, X_test, y_test)\n",
        "LRScores_ridge"
      ],
      "execution_count": null,
      "outputs": [
        {
          "output_type": "execute_result",
          "data": {
            "text/plain": [
              "{'evs': 0.5725194341801576,\n",
              " 'mae': 0.10819993080088056,\n",
              " 'mse': 0.5122561175943035,\n",
              " 'r2_score': 0.5723137955631876}"
            ]
          },
          "metadata": {
            "tags": []
          },
          "execution_count": 77
        }
      ]
    },
    {
      "cell_type": "markdown",
      "metadata": {
        "id": "2uZaTWz_zJyL"
      },
      "source": [
        "###Cas 4: Regression Lasso (L1 Regularization)"
      ]
    },
    {
      "cell_type": "code",
      "metadata": {
        "id": "qAjhoYQVzJyL",
        "outputId": "cc6997c8-6a27-4de4-ac8b-047cf054f1bc",
        "colab": {
          "base_uri": "https://localhost:8080/",
          "height": 374
        }
      },
      "source": [
        "n_alphas = 200\n",
        "lasso = Lasso()\n",
        "parameters = {'alpha': list(np.logspace(-5, 5, n_alphas))}\n",
        "lassoGCV = GridSearchCV(lasso, parameters)\n",
        "lassoGCV.fit(X_train, y_train)"
      ],
      "execution_count": null,
      "outputs": [
        {
          "output_type": "execute_result",
          "data": {
            "text/plain": [
              "GridSearchCV(cv=None, error_score=nan,\n",
              "             estimator=Lasso(alpha=1.0, copy_X=True, fit_intercept=True,\n",
              "                             max_iter=1000, normalize=False, positive=False,\n",
              "                             precompute=False, random_state=None,\n",
              "                             selection='cyclic', tol=0.0001, warm_start=False),\n",
              "             iid='deprecated', n_jobs=None,\n",
              "             param_grid={'alpha': [1e-05, 1.1226677735108135e-05,\n",
              "                                   1.2603829296797274e-05,\n",
              "                                   1.414991297434576e-05, 1.58...\n",
              "                                   7.149428986597576e-05, 8.026433522257174e-05,\n",
              "                                   9.011018251665018e-05, 0.0001011637979766207,\n",
              "                                   0.00011357333583431052,\n",
              "                                   0.00012750512407130128,\n",
              "                                   0.00014314589375234786,\n",
              "                                   0.00016070528182616383,\n",
              "                                   0.00018041864093920718,\n",
              "                                   0.00020255019392306664,\n",
              "                                   0.00022739657523579274,\n",
              "                                   0.00025529080682395165, 0.000286606761694825, ...]},\n",
              "             pre_dispatch='2*n_jobs', refit=True, return_train_score=False,\n",
              "             scoring=None, verbose=0)"
            ]
          },
          "metadata": {
            "tags": []
          },
          "execution_count": 78
        }
      ]
    },
    {
      "cell_type": "code",
      "metadata": {
        "id": "o2Q9eOcwzJyO",
        "outputId": "c1a0ff43-674e-444d-84fb-a807689cee8e",
        "colab": {
          "base_uri": "https://localhost:8080/",
          "height": 34
        }
      },
      "source": [
        "lassoGCV.best_params_"
      ],
      "execution_count": null,
      "outputs": [
        {
          "output_type": "execute_result",
          "data": {
            "text/plain": [
              "{'alpha': 0.02072921779595372}"
            ]
          },
          "metadata": {
            "tags": []
          },
          "execution_count": 79
        }
      ]
    },
    {
      "cell_type": "code",
      "metadata": {
        "id": "qF_lPENkzJyQ",
        "outputId": "97634b93-a5e3-4e40-cfe3-64f114c30a5a",
        "colab": {
          "base_uri": "https://localhost:8080/",
          "height": 85
        }
      },
      "source": [
        "LRScores_lasso = calcScores(lassoGCV, X_test, y_test)\n",
        "LRScores_lasso"
      ],
      "execution_count": null,
      "outputs": [
        {
          "output_type": "execute_result",
          "data": {
            "text/plain": [
              "{'evs': 0.573892668403294,\n",
              " 'mae': 0.106713059055138,\n",
              " 'mse': 0.5105885527034175,\n",
              " 'r2_score': 0.5737060571181779}"
            ]
          },
          "metadata": {
            "tags": []
          },
          "execution_count": 80
        }
      ]
    },
    {
      "cell_type": "markdown",
      "metadata": {
        "id": "hdseS8B-zJzh"
      },
      "source": [
        "##Random Forest"
      ]
    },
    {
      "cell_type": "code",
      "metadata": {
        "id": "4OioAMBSzJzh"
      },
      "source": [
        "from sklearn.ensemble import RandomForestRegressor\n",
        "liste_depth=list(range(10))\n",
        "RandomForestRegressor = RandomForestRegressor()\n",
        "parameters = {'max_depth': liste_depth}\n",
        "RandomForestRegressorGCV = GridSearchCV(RandomForestRegressor, parameters, n_jobs=10)\n",
        "RandomForestRegressorGCV.fit(X_train, y_train)"
      ],
      "execution_count": null,
      "outputs": []
    },
    {
      "cell_type": "code",
      "metadata": {
        "id": "PZiqKEFSzJzj",
        "outputId": "fcf250ae-e511-4313-95ff-ade45e0e1e2a",
        "colab": {
          "base_uri": "https://localhost:8080/",
          "height": 34
        }
      },
      "source": [
        "RandomForestRegressorGCV.best_params_"
      ],
      "execution_count": null,
      "outputs": [
        {
          "output_type": "execute_result",
          "data": {
            "text/plain": [
              "{'max_depth': 9}"
            ]
          },
          "metadata": {
            "tags": []
          },
          "execution_count": 84
        }
      ]
    },
    {
      "cell_type": "code",
      "metadata": {
        "id": "1WscAlh-zJzm",
        "outputId": "f32f95a9-3aee-4584-d1f0-4098e168a563",
        "colab": {
          "base_uri": "https://localhost:8080/",
          "height": 85
        }
      },
      "source": [
        "LRScores_RandomForestRegressor = calcScores(RandomForestRegressorGCV, X_test, y_test)\n",
        "LRScores_RandomForestRegressor"
      ],
      "execution_count": null,
      "outputs": [
        {
          "output_type": "execute_result",
          "data": {
            "text/plain": [
              "{'evs': 0.6257298517973007,\n",
              " 'mae': 0.06891134883465276,\n",
              " 'mse': 0.4489301056775423,\n",
              " 'r2_score': 0.6251851244718443}"
            ]
          },
          "metadata": {
            "tags": []
          },
          "execution_count": 85
        }
      ]
    },
    {
      "cell_type": "code",
      "metadata": {
        "id": "6VnA0Od0zJzo",
        "outputId": "8599e338-4fec-4d2d-e4ae-290fd1df8850",
        "colab": {
          "base_uri": "https://localhost:8080/",
          "height": 105
        }
      },
      "source": [
        "from sklearn.ensemble import RandomForestRegressor\n",
        "from sklearn.datasets import make_regression\n",
        "regr = RandomForestRegressor()\n",
        "clf = regr.fit(X_train, y_train)"
      ],
      "execution_count": null,
      "outputs": [
        {
          "output_type": "stream",
          "text": [
            "/usr/local/lib/python3.6/dist-packages/ipykernel_launcher.py:4: DataConversionWarning:\n",
            "\n",
            "A column-vector y was passed when a 1d array was expected. Please change the shape of y to (n_samples,), for example using ravel().\n",
            "\n"
          ],
          "name": "stderr"
        }
      ]
    },
    {
      "cell_type": "code",
      "metadata": {
        "id": "A2aRCCJTzJzq",
        "outputId": "90757608-3771-4a3f-b4be-53e3a103913f",
        "colab": {
          "base_uri": "https://localhost:8080/",
          "height": 85
        }
      },
      "source": [
        "RandomForestErros=calcScores(clf, X_test, y_test)\n",
        "RandomForestErros"
      ],
      "execution_count": null,
      "outputs": [
        {
          "output_type": "execute_result",
          "data": {
            "text/plain": [
              "{'evs': 0.5936058622372433,\n",
              " 'mae': 0.04584290296322957,\n",
              " 'mse': 0.48735861252034873,\n",
              " 'r2_score': 0.5931008961546524}"
            ]
          },
          "metadata": {
            "tags": []
          },
          "execution_count": 87
        }
      ]
    },
    {
      "cell_type": "markdown",
      "metadata": {
        "id": "Ti6LYM_ezJzr"
      },
      "source": [
        "##XGBOOST"
      ]
    },
    {
      "cell_type": "code",
      "metadata": {
        "id": "sP4EmygHzJzr",
        "outputId": "efc79f24-905b-4a38-db32-a014403058a2",
        "colab": {
          "base_uri": "https://localhost:8080/",
          "height": 173
        }
      },
      "source": [
        "xgb = xgboost.XGBRegressor(n_estimators=100, learning_rate=0.08, gamma=0.001, subsample=0.75, colsample_bytree=1, max_depth=X_train.shape[1])\n",
        "xgb.fit(X_train, y_train)"
      ],
      "execution_count": null,
      "outputs": [
        {
          "output_type": "stream",
          "text": [
            "[17:11:46] WARNING: /workspace/src/objective/regression_obj.cu:152: reg:linear is now deprecated in favor of reg:squarederror.\n"
          ],
          "name": "stdout"
        },
        {
          "output_type": "execute_result",
          "data": {
            "text/plain": [
              "XGBRegressor(base_score=0.5, booster='gbtree', colsample_bylevel=1,\n",
              "             colsample_bynode=1, colsample_bytree=1, gamma=0.001,\n",
              "             importance_type='gain', learning_rate=0.1, max_delta_step=0,\n",
              "             max_depth=4, min_child_weight=1, missing=None, n_estimators=100,\n",
              "             n_jobs=1, nthread=None, objective='reg:linear', random_state=0,\n",
              "             reg_alpha=0, reg_lambda=1, scale_pos_weight=1, seed=None,\n",
              "             silent=None, subsample=0.75, verbosity=1)"
            ]
          },
          "metadata": {
            "tags": []
          },
          "execution_count": 94
        }
      ]
    },
    {
      "cell_type": "code",
      "metadata": {
        "id": "AIQs5HkbzJzv"
      },
      "source": [
        "LRScores_XGBOOST = calcScores(clf, X_test, y_test)"
      ],
      "execution_count": null,
      "outputs": []
    },
    {
      "cell_type": "code",
      "metadata": {
        "id": "tS4e9IbuA-AZ",
        "outputId": "cd06e087-e83f-44d7-e202-f8963036bbc1",
        "colab": {
          "base_uri": "https://localhost:8080/",
          "height": 85
        }
      },
      "source": [
        "LRScores_XGBOOST"
      ],
      "execution_count": null,
      "outputs": [
        {
          "output_type": "execute_result",
          "data": {
            "text/plain": [
              "{'evs': 0.5936058622372433,\n",
              " 'mae': 0.04584290296322957,\n",
              " 'mse': 0.48735861252034873,\n",
              " 'r2_score': 0.5931008961546524}"
            ]
          },
          "metadata": {
            "tags": []
          },
          "execution_count": 96
        }
      ]
    },
    {
      "cell_type": "code",
      "metadata": {
        "id": "S_o6U-dqBI_l",
        "outputId": "118cb654-338d-4d1c-def2-27634fba45b3",
        "colab": {
          "base_uri": "https://localhost:8080/",
          "height": 666
        }
      },
      "source": [
        "xgb = xgboost.XGBRegressor(subsample=0.75, colsample_bytree=1)\n",
        "parameters = {'learning_rate': [0.001, 0.01, 0.1, 1], 'gamma': list(np.logspace(-5, 5, 50)), 'max_depth': [1, 2, 3, 4, 5, 6, 7, 8, 9]}\n",
        "xgbGSCV = GridSearchCV(xgb, parameters, verbose=1, n_jobs=10)\n",
        "xgbGSCV.fit(X_train, y_train)"
      ],
      "execution_count": null,
      "outputs": [
        {
          "output_type": "stream",
          "text": [
            "Fitting 5 folds for each of 1800 candidates, totalling 9000 fits\n"
          ],
          "name": "stdout"
        },
        {
          "output_type": "stream",
          "text": [
            "[Parallel(n_jobs=10)]: Using backend LokyBackend with 10 concurrent workers.\n",
            "[Parallel(n_jobs=10)]: Done  30 tasks      | elapsed:    8.7s\n",
            "[Parallel(n_jobs=10)]: Done 180 tasks      | elapsed:   24.0s\n",
            "[Parallel(n_jobs=10)]: Done 430 tasks      | elapsed:   48.4s\n",
            "[Parallel(n_jobs=10)]: Done 780 tasks      | elapsed:  1.4min\n",
            "[Parallel(n_jobs=10)]: Done 1230 tasks      | elapsed:  2.1min\n",
            "[Parallel(n_jobs=10)]: Done 1780 tasks      | elapsed:  3.0min\n",
            "[Parallel(n_jobs=10)]: Done 2430 tasks      | elapsed:  4.1min\n",
            "[Parallel(n_jobs=10)]: Done 3180 tasks      | elapsed:  5.4min\n",
            "[Parallel(n_jobs=10)]: Done 4030 tasks      | elapsed:  6.8min\n",
            "[Parallel(n_jobs=10)]: Done 4980 tasks      | elapsed:  8.3min\n",
            "[Parallel(n_jobs=10)]: Done 6030 tasks      | elapsed: 10.0min\n",
            "[Parallel(n_jobs=10)]: Done 7180 tasks      | elapsed: 11.8min\n",
            "[Parallel(n_jobs=10)]: Done 8430 tasks      | elapsed: 13.8min\n",
            "[Parallel(n_jobs=10)]: Done 9000 out of 9000 | elapsed: 14.8min finished\n"
          ],
          "name": "stderr"
        },
        {
          "output_type": "stream",
          "text": [
            "[17:32:01] WARNING: /workspace/src/objective/regression_obj.cu:152: reg:linear is now deprecated in favor of reg:squarederror.\n"
          ],
          "name": "stdout"
        },
        {
          "output_type": "execute_result",
          "data": {
            "text/plain": [
              "GridSearchCV(cv=None, error_score=nan,\n",
              "             estimator=XGBRegressor(base_score=0.5, booster='gbtree',\n",
              "                                    colsample_bylevel=1, colsample_bynode=1,\n",
              "                                    colsample_bytree=1, gamma=0,\n",
              "                                    importance_type='gain', learning_rate=0.1,\n",
              "                                    max_delta_step=0, max_depth=3,\n",
              "                                    min_child_weight=1, missing=None,\n",
              "                                    n_estimators=100, n_jobs=1, nthread=None,\n",
              "                                    objective='reg:linear', random_state=0,\n",
              "                                    reg_alpha=0, r...\n",
              "                                   0.07543120063354623, 0.1206792640639329,\n",
              "                                   0.19306977288832497, 0.30888435964774846,\n",
              "                                   0.49417133613238384, 0.7906043210907702,\n",
              "                                   1.2648552168552958, 2.0235896477251556,\n",
              "                                   3.2374575428176464, 5.1794746792312125,\n",
              "                                   8.286427728546842, ...],\n",
              "                         'learning_rate': [0.001, 0.01, 0.1, 1],\n",
              "                         'max_depth': [1, 2, 3, 4, 5, 6, 7, 8, 9]},\n",
              "             pre_dispatch='2*n_jobs', refit=True, return_train_score=False,\n",
              "             scoring=None, verbose=1)"
            ]
          },
          "metadata": {
            "tags": []
          },
          "execution_count": 97
        }
      ]
    },
    {
      "cell_type": "code",
      "metadata": {
        "id": "fAthylmGzJzw",
        "outputId": "fba7345f-32e9-4796-e8c6-f658a71cd73f",
        "colab": {
          "base_uri": "https://localhost:8080/",
          "height": 51
        }
      },
      "source": [
        "predictionsTrain = xgbGSCV.predict(X_train)\n",
        "predictions = xgbGSCV.predict(X_test)\n",
        "print('Explained variance score: Train: ' + str(explained_variance_score(y_train, predictionsTrain)) + ' Test: ' + str(explained_variance_score(y_test, predictions)))\n",
        "print('R2 score: Train: ' + str(r2_score(y_train, predictionsTrain)) + ' Test: ' + str(r2_score(y_test, predictions)))"
      ],
      "execution_count": null,
      "outputs": [
        {
          "output_type": "stream",
          "text": [
            "Explained variance score: Train: 0.9192363207545433 Test: 0.6507204757282095\n",
            "R2 score: Train: 0.9192344576443997 Test: 0.6498285069479928\n"
          ],
          "name": "stdout"
        }
      ]
    },
    {
      "cell_type": "markdown",
      "metadata": {
        "id": "zRt4mzwDzZ2U"
      },
      "source": [
        "#Evaluation de l'intérêt de \"l'ENERGY STAR Score\" pour la prédiction d'émissions"
      ]
    },
    {
      "cell_type": "code",
      "metadata": {
        "id": "nBy3Amx0zq7Q"
      },
      "source": [
        "data_ESS = data_mix.dropna(subset=['ENERGYSTARScore'])"
      ],
      "execution_count": null,
      "outputs": []
    },
    {
      "cell_type": "code",
      "metadata": {
        "id": "g_oLBY_DvFSE"
      },
      "source": [
        "data_ESS.shape"
      ],
      "execution_count": null,
      "outputs": []
    },
    {
      "cell_type": "markdown",
      "metadata": {
        "id": "bOthAK36zdcW"
      },
      "source": [
        "###Modèle sans la variable ENERGYSTARScore"
      ]
    },
    {
      "cell_type": "code",
      "metadata": {
        "id": "yJ2KYg-ZyzDA"
      },
      "source": [
        "xgb = xgboost.XGBRegressor(n_estimators=100, learning_rate=0.08, gamma=0.001, subsample=0.75, colsample_bytree=1, max_depth=X_train.shape[1])"
      ],
      "execution_count": null,
      "outputs": []
    },
    {
      "cell_type": "code",
      "metadata": {
        "id": "Mauhtory26cR"
      },
      "source": [
        "xgb.fit(X_train, y_train)"
      ],
      "execution_count": null,
      "outputs": []
    },
    {
      "cell_type": "code",
      "metadata": {
        "id": "7fwyik0k3ELp"
      },
      "source": [
        "LRScores_XGBOOST_sansESS = calcScores(clf, X_test, y_test)"
      ],
      "execution_count": null,
      "outputs": []
    },
    {
      "cell_type": "markdown",
      "metadata": {
        "id": "31VKW3cGzPBN"
      },
      "source": [
        "###Modèle avec la variable ENERGYSTARScore"
      ]
    },
    {
      "cell_type": "code",
      "metadata": {
        "id": "ko0u38d8y4K8"
      },
      "source": [
        "_d = ['CouncilDistrictCode','YearBuilt','NumberofBuildings','NumberofFloors','PropertyGFAParking','PropertyGFABuilding(s)','ENERGYSTARScore']\n",
        "#_d = _d + list(categorical_data.columns)\n",
        "data_mix = data_ESS\n",
        "#To predict variable : TotalGHGEmissions\n",
        "#Features : correlated quantitative variables\n",
        "#To remove (BuildingType, PrimaryPropertyType)\n",
        "Y = data_mix[\"SiteEnergyUse(kBtu)\"]\n",
        "X = data_mix.drop([var for var in list(data_mix.columns) if var not in _d], axis=1)\n",
        "Y = np.array(Y)\n",
        "X = np.array(X)\n",
        "Y = Y[~np.isnan(Y)]\n",
        "X = X[~np.isnan(X).any(axis=1)]\n",
        "#Remove NaN values\n",
        "Y = Y.reshape(Y.shape[0], 1)\n",
        "Y = Y[:min(X.shape[0], Y.shape[0]),:]\n",
        "X = X[:min(X.shape[0], Y.shape[0]), :]\n",
        "Y.shape, X.shape"
      ],
      "execution_count": null,
      "outputs": []
    },
    {
      "cell_type": "code",
      "metadata": {
        "id": "IZTDA0Nsy-H0"
      },
      "source": [
        "scaler_x = StandardScaler()\n",
        "scaler_y = StandardScaler()\n",
        "print(scaler_x.fit(X))\n",
        "Xscale=scaler_x.transform(X)\n",
        "print(scaler_y.fit(Y))\n",
        "Yscale=scaler_y.transform(Y)"
      ],
      "execution_count": null,
      "outputs": []
    },
    {
      "cell_type": "code",
      "metadata": {
        "id": "p5hOhAXCzDNP"
      },
      "source": [
        "X_train, X_test, y_train, y_test = train_test_split(Xscale, Yscale)"
      ],
      "execution_count": null,
      "outputs": []
    },
    {
      "cell_type": "code",
      "metadata": {
        "id": "UvJUsxt-zHS0"
      },
      "source": [
        "xgbWithScore = xgboost.XGBRegressor(n_estimators=100, learning_rate=0.08, gamma=0.001, subsample=0.75, colsample_bytree=1, max_depth=X_train.shape[1])"
      ],
      "execution_count": null,
      "outputs": []
    },
    {
      "cell_type": "code",
      "metadata": {
        "id": "i3mIAEjv0R3t"
      },
      "source": [
        "xgbWithScore.fit(X_train, y_train)"
      ],
      "execution_count": null,
      "outputs": []
    },
    {
      "cell_type": "code",
      "metadata": {
        "id": "H-ibE0A73JLr"
      },
      "source": [
        "LRScores_XGBOOST_avecESS = calcScores(xgbWithScore, X_test, y_test)"
      ],
      "execution_count": null,
      "outputs": []
    },
    {
      "cell_type": "code",
      "metadata": {
        "id": "2YWFKF4p3QeP"
      },
      "source": [
        "print(LRScores_XGBOOST_sansESS)\n",
        "print(LRScores_XGBOOST_avecESS)"
      ],
      "execution_count": null,
      "outputs": []
    }
  ]
}